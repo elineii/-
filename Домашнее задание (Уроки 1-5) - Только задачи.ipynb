{
 "cells": [
  {
   "cell_type": "markdown",
   "metadata": {
    "toc": true
   },
   "source": [
    "<h1>Navigation<span class=\"tocSkip\"></span></h1>\n",
    "<div class=\"toc\"><ul class=\"toc-item\"><li><span><a href=\"#Многомерное-нормальное-распределение\" data-toc-modified-id=\"Многомерное-нормальное-распределение-1\"><span class=\"toc-item-num\">1&nbsp;&nbsp;</span>Многомерное нормальное распределение</a></span><ul class=\"toc-item\"><li><span><a href=\"#Задания\" data-toc-modified-id=\"Задания-1.1\"><span class=\"toc-item-num\">1.1&nbsp;&nbsp;</span>Задания</a></span><ul class=\"toc-item\"><li><span><a href=\"#Задание-1\" data-toc-modified-id=\"Задание-1-1.1.1\"><span class=\"toc-item-num\">1.1.1&nbsp;&nbsp;</span>Задание 1</a></span></li><li><span><a href=\"#Задание-2\" data-toc-modified-id=\"Задание-2-1.1.2\"><span class=\"toc-item-num\">1.1.2&nbsp;&nbsp;</span>Задание 2</a></span></li><li><span><a href=\"#Задание-3\" data-toc-modified-id=\"Задание-3-1.1.3\"><span class=\"toc-item-num\">1.1.3&nbsp;&nbsp;</span>Задание 3</a></span></li></ul></li></ul></li><li><span><a href=\"#Распределения,-связанные-с-нормальным\" data-toc-modified-id=\"Распределения,-связанные-с-нормальным-2\"><span class=\"toc-item-num\">2&nbsp;&nbsp;</span>Распределения, связанные с нормальным</a></span><ul class=\"toc-item\"><li><span><a href=\"#Задания\" data-toc-modified-id=\"Задания-2.1\"><span class=\"toc-item-num\">2.1&nbsp;&nbsp;</span>Задания</a></span><ul class=\"toc-item\"><li><span><a href=\"#Задание-1\" data-toc-modified-id=\"Задание-1-2.1.1\"><span class=\"toc-item-num\">2.1.1&nbsp;&nbsp;</span>Задание 1</a></span></li><li><span><a href=\"#Задание-2\" data-toc-modified-id=\"Задание-2-2.1.2\"><span class=\"toc-item-num\">2.1.2&nbsp;&nbsp;</span>Задание 2</a></span></li><li><span><a href=\"#Задание-2\" data-toc-modified-id=\"Задание-2-2.1.3\"><span class=\"toc-item-num\">2.1.3&nbsp;&nbsp;</span>Задание 2</a></span></li></ul></li></ul></li><li><span><a href=\"#Генерация-выборок-из-распределений\" data-toc-modified-id=\"Генерация-выборок-из-распределений-3\"><span class=\"toc-item-num\">3&nbsp;&nbsp;</span>Генерация выборок из распределений</a></span><ul class=\"toc-item\"><li><span><a href=\"#Задания\" data-toc-modified-id=\"Задания-3.1\"><span class=\"toc-item-num\">3.1&nbsp;&nbsp;</span>Задания</a></span><ul class=\"toc-item\"><li><span><a href=\"#Задание-1\" data-toc-modified-id=\"Задание-1-3.1.1\"><span class=\"toc-item-num\">3.1.1&nbsp;&nbsp;</span>Задание 1</a></span></li><li><span><a href=\"#Задание-2\" data-toc-modified-id=\"Задание-2-3.1.2\"><span class=\"toc-item-num\">3.1.2&nbsp;&nbsp;</span>Задание 2</a></span></li><li><span><a href=\"#Задание-3\" data-toc-modified-id=\"Задание-3-3.1.3\"><span class=\"toc-item-num\">3.1.3&nbsp;&nbsp;</span>Задание 3</a></span></li><li><span><a href=\"#Задание-4\" data-toc-modified-id=\"Задание-4-3.1.4\"><span class=\"toc-item-num\">3.1.4&nbsp;&nbsp;</span>Задание 4</a></span></li><li><span><a href=\"#Задание-5\" data-toc-modified-id=\"Задание-5-3.1.5\"><span class=\"toc-item-num\">3.1.5&nbsp;&nbsp;</span>Задание 5</a></span></li></ul></li></ul></li><li><span><a href=\"#Выборочная-функция-распределения-и-гистограмма\" data-toc-modified-id=\"Выборочная-функция-распределения-и-гистограмма-4\"><span class=\"toc-item-num\">4&nbsp;&nbsp;</span>Выборочная функция распределения и гистограмма</a></span><ul class=\"toc-item\"><li><span><a href=\"#Задания\" data-toc-modified-id=\"Задания-4.1\"><span class=\"toc-item-num\">4.1&nbsp;&nbsp;</span>Задания</a></span><ul class=\"toc-item\"><li><span><a href=\"#Задание-1\" data-toc-modified-id=\"Задание-1-4.1.1\"><span class=\"toc-item-num\">4.1.1&nbsp;&nbsp;</span>Задание 1</a></span></li><li><span><a href=\"#Задание-2\" data-toc-modified-id=\"Задание-2-4.1.2\"><span class=\"toc-item-num\">4.1.2&nbsp;&nbsp;</span>Задание 2</a></span></li><li><span><a href=\"#Задание-3\" data-toc-modified-id=\"Задание-3-4.1.3\"><span class=\"toc-item-num\">4.1.3&nbsp;&nbsp;</span>Задание 3</a></span></li><li><span><a href=\"#Задание-4\" data-toc-modified-id=\"Задание-4-4.1.4\"><span class=\"toc-item-num\">4.1.4&nbsp;&nbsp;</span>Задание 4</a></span></li><li><span><a href=\"#Задание-5\" data-toc-modified-id=\"Задание-5-4.1.5\"><span class=\"toc-item-num\">4.1.5&nbsp;&nbsp;</span>Задание 5</a></span></li><li><span><a href=\"#Задание-6\" data-toc-modified-id=\"Задание-6-4.1.6\"><span class=\"toc-item-num\">4.1.6&nbsp;&nbsp;</span>Задание 6</a></span></li></ul></li></ul></li><li><span><a href=\"#Выборочные-характеристики\" data-toc-modified-id=\"Выборочные-характеристики-5\"><span class=\"toc-item-num\">5&nbsp;&nbsp;</span>Выборочные характеристики</a></span><ul class=\"toc-item\"><li><span><a href=\"#Задания\" data-toc-modified-id=\"Задания-5.1\"><span class=\"toc-item-num\">5.1&nbsp;&nbsp;</span>Задания</a></span><ul class=\"toc-item\"><li><span><a href=\"#Задание-1\" data-toc-modified-id=\"Задание-1-5.1.1\"><span class=\"toc-item-num\">5.1.1&nbsp;&nbsp;</span>Задание 1</a></span></li><li><span><a href=\"#Задание-2\" data-toc-modified-id=\"Задание-2-5.1.2\"><span class=\"toc-item-num\">5.1.2&nbsp;&nbsp;</span>Задание 2</a></span></li><li><span><a href=\"#Задание-3\" data-toc-modified-id=\"Задание-3-5.1.3\"><span class=\"toc-item-num\">5.1.3&nbsp;&nbsp;</span>Задание 3</a></span></li><li><span><a href=\"#Задание-4\" data-toc-modified-id=\"Задание-4-5.1.4\"><span class=\"toc-item-num\">5.1.4&nbsp;&nbsp;</span>Задание 4</a></span></li><li><span><a href=\"#Задание-5\" data-toc-modified-id=\"Задание-5-5.1.5\"><span class=\"toc-item-num\">5.1.5&nbsp;&nbsp;</span>Задание 5</a></span></li></ul></li></ul></li></ul></div>"
   ]
  },
  {
   "cell_type": "markdown",
   "metadata": {},
   "source": [
    "# Многомерное нормальное распределение"
   ]
  },
  {
   "cell_type": "code",
   "execution_count": 43,
   "metadata": {},
   "outputs": [],
   "source": [
    "from IPython.core.interactiveshell import InteractiveShell\n",
    "InteractiveShell.ast_node_interactivity = 'all'"
   ]
  },
  {
   "cell_type": "code",
   "execution_count": 44,
   "metadata": {},
   "outputs": [],
   "source": [
    "import numpy as np\n",
    "import math\n",
    "from scipy.stats import norm\n",
    "from scipy.stats import multivariate_normal"
   ]
  },
  {
   "cell_type": "markdown",
   "metadata": {},
   "source": [
    "## Задания"
   ]
  },
  {
   "cell_type": "markdown",
   "metadata": {},
   "source": [
    "### Задание 1"
   ]
  },
  {
   "cell_type": "markdown",
   "metadata": {},
   "source": [
    "Совместное распределение случайных величин X и Y является многомерным нормальным.\n",
    "\n",
    "Кроме того, известно, что:\n",
    "\n",
    "- $E(X) = 5$, \n",
    "- $E(Y) = 2$, \n",
    "- $Cov(X, Y) = 10$,\n",
    "- $Var(X) = Var(Y) = 25$."
   ]
  },
  {
   "cell_type": "code",
   "execution_count": 56,
   "metadata": {},
   "outputs": [],
   "source": [
    "E_X = 5\n",
    "E_Y = 2\n",
    "Cov_XY = 10\n",
    "Var_X = 25\n",
    "Var_Y = 25"
   ]
  },
  {
   "cell_type": "markdown",
   "metadata": {},
   "source": [
    "__1. Corr(X, Y), E((X, Y)) и Cov((X, Y))__"
   ]
  },
  {
   "cell_type": "code",
   "execution_count": 57,
   "metadata": {},
   "outputs": [
    {
     "data": {
      "text/plain": [
       "0.4"
      ]
     },
     "execution_count": 57,
     "metadata": {},
     "output_type": "execute_result"
    },
    {
     "data": {
      "text/plain": [
       "array([5, 2])"
      ]
     },
     "execution_count": 57,
     "metadata": {},
     "output_type": "execute_result"
    },
    {
     "data": {
      "text/plain": [
       "array([[25, 10],\n",
       "       [10, 25]])"
      ]
     },
     "execution_count": 57,
     "metadata": {},
     "output_type": "execute_result"
    }
   ],
   "source": [
    "Corr_XY = Cov_XY / (math.sqrt(Var_X) * math.sqrt(Var_Y))\n",
    "E_XY = np.array([E_X, E_Y])\n",
    "Cov_XY = np.array([[Var_X, Cov_XY], \n",
    "                   [Cov_XY, Var_Y]])\n",
    "Corr_XY\n",
    "E_XY\n",
    "Cov_XY"
   ]
  },
  {
   "cell_type": "markdown",
   "metadata": {},
   "source": [
    "__2. P(X <= 7, Y <= 3)__"
   ]
  },
  {
   "cell_type": "code",
   "execution_count": 58,
   "metadata": {},
   "outputs": [
    {
     "data": {
      "text/plain": [
       "0.4396171985932502"
      ]
     },
     "execution_count": 58,
     "metadata": {},
     "output_type": "execute_result"
    }
   ],
   "source": [
    "multivariate_normal.cdf(x = [7, 3],    # точка, в которой осуществляется расчет, то есть (x, y)\n",
    "                        mean = E_XY,   # E((X, Y)\n",
    "                        cov = Cov_XY)  # Cov(X, Y)"
   ]
  },
  {
   "cell_type": "markdown",
   "metadata": {},
   "source": [
    "__3. P(X <= 7, Y >= 3)__"
   ]
  },
  {
   "cell_type": "code",
   "execution_count": 59,
   "metadata": {},
   "outputs": [
    {
     "data": {
      "text/plain": [
       "0.21580454301707408"
      ]
     },
     "execution_count": 59,
     "metadata": {},
     "output_type": "execute_result"
    }
   ],
   "source": [
    "A = np.array([[1, 0], [0, -1]])\n",
    "E_new = np.matmul(A, E_XY)        \n",
    "Cov_new = np.matmul(np.matmul(A, Cov_XY),\n",
    "                      np.transpose(A))\n",
    "multivariate_normal.cdf(x = [7, -3],     \n",
    "                        mean = E_new,    \n",
    "                        cov = Cov_new)"
   ]
  },
  {
   "cell_type": "markdown",
   "metadata": {},
   "source": [
    "__4. P(X + 5Y <= 20)__"
   ]
  },
  {
   "cell_type": "code",
   "execution_count": 60,
   "metadata": {},
   "outputs": [
    {
     "data": {
      "text/plain": [
       "array([1, 5])"
      ]
     },
     "execution_count": 60,
     "metadata": {},
     "output_type": "execute_result"
    }
   ],
   "source": [
    "A = np.array([1, 5])\n",
    "A"
   ]
  },
  {
   "cell_type": "code",
   "execution_count": 61,
   "metadata": {},
   "outputs": [
    {
     "data": {
      "text/plain": [
       "15"
      ]
     },
     "execution_count": 61,
     "metadata": {},
     "output_type": "execute_result"
    },
    {
     "data": {
      "text/plain": [
       "750"
      ]
     },
     "execution_count": 61,
     "metadata": {},
     "output_type": "execute_result"
    }
   ],
   "source": [
    "E_new = np.matmul(A, E_XY)        \n",
    "Cov_new = np.matmul(np.matmul(A, Cov_XY),\n",
    "                      np.transpose(A))\n",
    "E_new\n",
    "Cov_new"
   ]
  },
  {
   "cell_type": "code",
   "execution_count": 62,
   "metadata": {},
   "outputs": [
    {
     "data": {
      "text/plain": [
       "0.5724339297076471"
      ]
     },
     "execution_count": 62,
     "metadata": {},
     "output_type": "execute_result"
    }
   ],
   "source": [
    "multivariate_normal.cdf(x = [20],        # точка, в которой осуществляется расчет, то есть (z)\n",
    "                        mean = E_new,    # E(Z) = E(X + 5Y)\n",
    "                        cov = Cov_new)   # Cov(Z) = Cov(X + 5Y)"
   ]
  },
  {
   "cell_type": "markdown",
   "metadata": {},
   "source": [
    "__5. P(X + 5Y <= 20, X - Y <= 2)__"
   ]
  },
  {
   "cell_type": "code",
   "execution_count": 63,
   "metadata": {},
   "outputs": [
    {
     "data": {
      "text/plain": [
       "array([[ 1,  5],\n",
       "       [ 1, -1]])"
      ]
     },
     "execution_count": 63,
     "metadata": {},
     "output_type": "execute_result"
    }
   ],
   "source": [
    "A = np.array([[1, 5], [1, -1]])\n",
    "A"
   ]
  },
  {
   "cell_type": "code",
   "execution_count": 64,
   "metadata": {},
   "outputs": [
    {
     "data": {
      "text/plain": [
       "array([15,  3])"
      ]
     },
     "execution_count": 64,
     "metadata": {},
     "output_type": "execute_result"
    },
    {
     "data": {
      "text/plain": [
       "array([[750, -60],\n",
       "       [-60,  30]])"
      ]
     },
     "execution_count": 64,
     "metadata": {},
     "output_type": "execute_result"
    }
   ],
   "source": [
    "E_new = np.matmul(A, E_XY)        \n",
    "Cov_new = np.matmul(np.matmul(A, Cov_XY),\n",
    "                      np.transpose(A))\n",
    "E_new\n",
    "Cov_new"
   ]
  },
  {
   "cell_type": "code",
   "execution_count": 65,
   "metadata": {},
   "outputs": [
    {
     "data": {
      "text/plain": [
       "0.18106487921613007"
      ]
     },
     "execution_count": 65,
     "metadata": {},
     "output_type": "execute_result"
    }
   ],
   "source": [
    "multivariate_normal.cdf(x = [20, 2],     # точка, в которой осуществляется расчет\n",
    "                        mean = E_new,    # E(Z) = E(X + 5Y, X - Y)\n",
    "                        cov = Cov_new)   # Cov(Z) = Cov(X + 5Y, X - Y)"
   ]
  },
  {
   "cell_type": "markdown",
   "metadata": {},
   "source": [
    "__6. P(X - Y <= 2, 2X <= 15)__"
   ]
  },
  {
   "cell_type": "code",
   "execution_count": 66,
   "metadata": {},
   "outputs": [
    {
     "data": {
      "text/plain": [
       "array([[ 1, -1],\n",
       "       [ 2,  0]])"
      ]
     },
     "execution_count": 66,
     "metadata": {},
     "output_type": "execute_result"
    }
   ],
   "source": [
    "A = np.array([[1, -1], [2, 0]])\n",
    "A"
   ]
  },
  {
   "cell_type": "code",
   "execution_count": 67,
   "metadata": {},
   "outputs": [
    {
     "data": {
      "text/plain": [
       "array([ 3, 10])"
      ]
     },
     "execution_count": 67,
     "metadata": {},
     "output_type": "execute_result"
    },
    {
     "data": {
      "text/plain": [
       "array([[ 30,  30],\n",
       "       [ 30, 100]])"
      ]
     },
     "execution_count": 67,
     "metadata": {},
     "output_type": "execute_result"
    }
   ],
   "source": [
    "E_new = np.matmul(A, E_XY)        \n",
    "Cov_new = np.matmul(np.matmul(A, Cov_XY),\n",
    "                      np.transpose(A))\n",
    "E_new\n",
    "Cov_new"
   ]
  },
  {
   "cell_type": "code",
   "execution_count": 68,
   "metadata": {},
   "outputs": [
    {
     "data": {
      "text/plain": [
       "0.3719305604283101"
      ]
     },
     "execution_count": 68,
     "metadata": {},
     "output_type": "execute_result"
    }
   ],
   "source": [
    "multivariate_normal.cdf(x = [2, 15],     \n",
    "                        mean = E_new,    \n",
    "                        cov = Cov_new)"
   ]
  },
  {
   "cell_type": "markdown",
   "metadata": {},
   "source": [
    "__7. P(X - Y >= 2, 2X <= 15)__"
   ]
  },
  {
   "cell_type": "code",
   "execution_count": 69,
   "metadata": {},
   "outputs": [
    {
     "data": {
      "text/plain": [
       "0.31953190084570293"
      ]
     },
     "execution_count": 69,
     "metadata": {},
     "output_type": "execute_result"
    }
   ],
   "source": [
    "A = np.array([[-1, 1], [2, 0]])\n",
    "E_new = np.matmul(A, E_XY)        \n",
    "Cov_new = np.matmul(np.matmul(A, Cov_XY),\n",
    "                      np.transpose(A))\n",
    "multivariate_normal.cdf(x = [-2, 15],     \n",
    "                        mean = E_new,    \n",
    "                        cov = Cov_new)"
   ]
  },
  {
   "cell_type": "markdown",
   "metadata": {},
   "source": [
    "__8. P(X <= 10, Y <= 5, X + Y <= 12)__"
   ]
  },
  {
   "cell_type": "code",
   "execution_count": 70,
   "metadata": {
    "scrolled": true
   },
   "outputs": [],
   "source": [
    "A = np.array([[1, 0], [0, 1], [1, 1]])\n",
    "E_new = np.matmul(A, E_XY)        \n",
    "Cov_new = np.matmul(np.matmul(A, Cov_XY),\n",
    "                      np.transpose(A))\n",
    "# multivariate_normal.cdf(x = [10, 5, 12],     \n",
    "#                        mean = E_new,    \n",
    "#                        cov = Cov_new)\n",
    "\n",
    "# singular matrix"
   ]
  },
  {
   "cell_type": "markdown",
   "metadata": {},
   "source": [
    "### Задание 2"
   ]
  },
  {
   "cell_type": "markdown",
   "metadata": {},
   "source": [
    "__1. E(X | Y = 1)__"
   ]
  },
  {
   "cell_type": "code",
   "execution_count": 71,
   "metadata": {},
   "outputs": [
    {
     "data": {
      "text/plain": [
       "4.6"
      ]
     },
     "execution_count": 71,
     "metadata": {},
     "output_type": "execute_result"
    }
   ],
   "source": [
    "cond = 1\n",
    "E_cond = E_X  + np.sqrt(Var_X / Var_Y) * \\\n",
    "          Corr_XY * (cond - E_Y)   # E(X | Y = 1)\n",
    "E_cond"
   ]
  },
  {
   "cell_type": "markdown",
   "metadata": {},
   "source": [
    "__2. Var(X | Y = 1)__"
   ]
  },
  {
   "cell_type": "code",
   "execution_count": 72,
   "metadata": {},
   "outputs": [
    {
     "data": {
      "text/plain": [
       "21.0"
      ]
     },
     "execution_count": 72,
     "metadata": {},
     "output_type": "execute_result"
    }
   ],
   "source": [
    "Var_cond = (1 - Corr_XY ** 2) * Var_X   # Var(X | Y = 1)\n",
    "Var_cond"
   ]
  },
  {
   "cell_type": "markdown",
   "metadata": {},
   "source": [
    "__3. P(X <= 3 | Y = 1)__"
   ]
  },
  {
   "cell_type": "code",
   "execution_count": 73,
   "metadata": {},
   "outputs": [
    {
     "data": {
      "text/plain": [
       "0.3634888668725587"
      ]
     },
     "execution_count": 73,
     "metadata": {},
     "output_type": "execute_result"
    }
   ],
   "source": [
    "norm.cdf(x = 3,                       # точка, в которой осуществляется расчет, то есть x\n",
    "         loc = E_cond,                # E(X | Y = 1)\n",
    "         scale = math.sqrt(Var_cond)) # Var(X | Y = 1)"
   ]
  },
  {
   "cell_type": "markdown",
   "metadata": {},
   "source": [
    "__4. P(X >= 5 | Y = 1)__"
   ]
  },
  {
   "cell_type": "code",
   "execution_count": 74,
   "metadata": {},
   "outputs": [
    {
     "data": {
      "text/plain": [
       "0.4652216315023737"
      ]
     },
     "execution_count": 74,
     "metadata": {},
     "output_type": "execute_result"
    }
   ],
   "source": [
    "A = -1\n",
    "E_new = -1 * E_cond        \n",
    "norm.cdf(x = -5,                     \n",
    "         loc = E_new,                \n",
    "         scale = math.sqrt(Var_cond))"
   ]
  },
  {
   "cell_type": "markdown",
   "metadata": {},
   "source": [
    "__5. P(X >= 5 | X + Y = 10)__\n"
   ]
  },
  {
   "cell_type": "code",
   "execution_count": 75,
   "metadata": {},
   "outputs": [
    {
     "data": {
      "text/plain": [
       "array([5, 7])"
      ]
     },
     "execution_count": 75,
     "metadata": {},
     "output_type": "execute_result"
    },
    {
     "data": {
      "text/plain": [
       "array([[25, 35],\n",
       "       [35, 70]])"
      ]
     },
     "execution_count": 75,
     "metadata": {},
     "output_type": "execute_result"
    }
   ],
   "source": [
    "A = np.array([[1, 0], [1, 1]])\n",
    "E_new = np.matmul(A, E_XY)        \n",
    "Cov_new = np.matmul(np.matmul(A, Cov_XY),\n",
    "                      np.transpose(A))\n",
    "E_new\n",
    "Cov_new\n",
    "E_X_new = E_new[0]\n",
    "E_Y_new = E_new[1]\n",
    "Var_X_new = Cov_new[0, 0]\n",
    "Var_Y_new = Cov_new[1, 1]\n",
    "Cov_XY_new = Cov_new[0, 1]\n",
    "Corr_XY_new = Cov_XY_new / (math.sqrt(Var_X_new) * math.sqrt(Var_Y_new))"
   ]
  },
  {
   "cell_type": "code",
   "execution_count": 76,
   "metadata": {
    "scrolled": true
   },
   "outputs": [
    {
     "data": {
      "text/plain": [
       "6.5"
      ]
     },
     "execution_count": 76,
     "metadata": {},
     "output_type": "execute_result"
    },
    {
     "data": {
      "text/plain": [
       "7.5000000000000036"
      ]
     },
     "execution_count": 76,
     "metadata": {},
     "output_type": "execute_result"
    }
   ],
   "source": [
    "cond = 10\n",
    "E_cond = E_X_new  + np.sqrt(Var_X_new / Var_Y_new) * \\\n",
    "          Corr_XY_new * (cond - E_Y_new)\n",
    "E_cond\n",
    "Var_cond = (1 - Corr_XY_new ** 2) * Var_X_new   # Var(X | Y = 1)\n",
    "Var_cond"
   ]
  },
  {
   "cell_type": "code",
   "execution_count": 77,
   "metadata": {},
   "outputs": [
    {
     "data": {
      "text/plain": [
       "0.7080587896148174"
      ]
     },
     "execution_count": 77,
     "metadata": {},
     "output_type": "execute_result"
    }
   ],
   "source": [
    "A = -1\n",
    "E_new = -1 * E_cond        \n",
    "norm.cdf(x = -5,                     \n",
    "         loc = E_new,                \n",
    "         scale = math.sqrt(Var_cond))"
   ]
  },
  {
   "cell_type": "markdown",
   "metadata": {},
   "source": [
    "### Задание 3"
   ]
  },
  {
   "cell_type": "markdown",
   "metadata": {},
   "source": [
    "__1. Условное математическое ожидание E(X | Y = a)__"
   ]
  },
  {
   "cell_type": "code",
   "execution_count": 78,
   "metadata": {},
   "outputs": [],
   "source": [
    "def e_cond(E_XY, Cov_XY, cond): \n",
    "    E_X = E_XY[0]\n",
    "    E_Y = E_XY[1]\n",
    "    Var_X = Cov_XY[0, 0]\n",
    "    Var_Y = Cov_XY[1, 1]\n",
    "    Covv_XY = Cov_XY[1, 0]\n",
    "    Corr_XY = Covv_XY / (math.sqrt(Var_X) * math.sqrt(Var_Y))\n",
    "    return E_X + np.sqrt(Var_X / Var_Y) * \\\n",
    "          Corr_XY * (cond - E_Y)   "
   ]
  },
  {
   "cell_type": "markdown",
   "metadata": {},
   "source": [
    "__2. Условную дисперсию Var(X | Y = a)__"
   ]
  },
  {
   "cell_type": "code",
   "execution_count": 79,
   "metadata": {},
   "outputs": [],
   "source": [
    "def var_cond(E_XY, Cov_XY, cond): \n",
    "    Var_X = Cov_XY[0, 0]\n",
    "    Covv_XY = Cov_XY[1, 0]\n",
    "    Corr_XY = Covv_XY / (math.sqrt(Var_X) * math.sqrt(Var_Y))\n",
    "    return (1 - Corr_XY ** 2) * Var_X  "
   ]
  },
  {
   "cell_type": "markdown",
   "metadata": {},
   "source": [
    "__3. Условную функцию распределения P(X <= x | Y = a)__"
   ]
  },
  {
   "cell_type": "code",
   "execution_count": 80,
   "metadata": {},
   "outputs": [],
   "source": [
    "def f_cond(E_XY, Cov_XY, cond, x_f): \n",
    "    return norm.cdf(x = x_F,                       \n",
    "         loc = e_cond(E_XY, Cov_XY, cond),                \n",
    "         scale = var_cond(E_XY, Cov_XY, cond))"
   ]
  },
  {
   "cell_type": "markdown",
   "metadata": {},
   "source": [
    "# Распределения, связанные с нормальным"
   ]
  },
  {
   "cell_type": "markdown",
   "metadata": {},
   "source": [
    "## Задания"
   ]
  },
  {
   "cell_type": "markdown",
   "metadata": {},
   "source": [
    "### Задание 1"
   ]
  },
  {
   "cell_type": "markdown",
   "metadata": {},
   "source": [
    "Случайная величина X имеет Хи-квадрат распредедение\n",
    "с 10-ю степенями свободы"
   ]
  },
  {
   "cell_type": "code",
   "execution_count": 91,
   "metadata": {},
   "outputs": [],
   "source": [
    "df = 10"
   ]
  },
  {
   "cell_type": "markdown",
   "metadata": {},
   "source": [
    "__1. P(X <= 1.5)__"
   ]
  },
  {
   "cell_type": "code",
   "execution_count": 92,
   "metadata": {},
   "outputs": [
    {
     "data": {
      "text/plain": [
       "0.0010646777727857928"
      ]
     },
     "execution_count": 92,
     "metadata": {},
     "output_type": "execute_result"
    }
   ],
   "source": [
    "chi2.cdf(1.5, df=df)"
   ]
  },
  {
   "cell_type": "markdown",
   "metadata": {},
   "source": [
    "__2. P(X > 1.5)__"
   ]
  },
  {
   "cell_type": "code",
   "execution_count": 93,
   "metadata": {},
   "outputs": [
    {
     "data": {
      "text/plain": [
       "0.9989353222272143"
      ]
     },
     "execution_count": 93,
     "metadata": {},
     "output_type": "execute_result"
    }
   ],
   "source": [
    "1 - chi2.cdf(1.5, df=df)"
   ]
  },
  {
   "cell_type": "markdown",
   "metadata": {},
   "source": [
    "__3. P(1.5 <= X <= 2)__"
   ]
  },
  {
   "cell_type": "code",
   "execution_count": 94,
   "metadata": {},
   "outputs": [
    {
     "data": {
      "text/plain": [
       "0.0025951690545579203"
      ]
     },
     "execution_count": 94,
     "metadata": {},
     "output_type": "execute_result"
    }
   ],
   "source": [
    "chi2.cdf(2, df=df) - chi2.cdf(1.5, df=df)"
   ]
  },
  {
   "cell_type": "markdown",
   "metadata": {},
   "source": [
    "__4. E(X), Var(X), Median(X)__"
   ]
  },
  {
   "cell_type": "code",
   "execution_count": 95,
   "metadata": {},
   "outputs": [
    {
     "data": {
      "text/plain": [
       "10.0"
      ]
     },
     "execution_count": 95,
     "metadata": {},
     "output_type": "execute_result"
    },
    {
     "data": {
      "text/plain": [
       "20.0"
      ]
     },
     "execution_count": 95,
     "metadata": {},
     "output_type": "execute_result"
    },
    {
     "data": {
      "text/plain": [
       "9.34181776559197"
      ]
     },
     "execution_count": 95,
     "metadata": {},
     "output_type": "execute_result"
    }
   ],
   "source": [
    "chi2.mean(df=df)\n",
    "chi2.var(df=df)\n",
    "chi2.median(df=df)"
   ]
  },
  {
   "cell_type": "markdown",
   "metadata": {},
   "source": [
    "__5. E(X ^ 3)__"
   ]
  },
  {
   "cell_type": "code",
   "execution_count": 96,
   "metadata": {},
   "outputs": [
    {
     "data": {
      "text/plain": [
       "1680.0"
      ]
     },
     "execution_count": 96,
     "metadata": {},
     "output_type": "execute_result"
    }
   ],
   "source": [
    "chi2.moment(n=3, df=df)"
   ]
  },
  {
   "cell_type": "markdown",
   "metadata": {},
   "source": [
    "__6. Квантиль уровня 0.1__"
   ]
  },
  {
   "cell_type": "code",
   "execution_count": 97,
   "metadata": {},
   "outputs": [
    {
     "data": {
      "text/plain": [
       "4.865182051925328"
      ]
     },
     "execution_count": 97,
     "metadata": {},
     "output_type": "execute_result"
    }
   ],
   "source": [
    "chi2.ppf(q=0.1, df=df)"
   ]
  },
  {
   "cell_type": "markdown",
   "metadata": {},
   "source": [
    "__7. Cov(X, X ^ 2)__"
   ]
  },
  {
   "cell_type": "markdown",
   "metadata": {},
   "source": [
    "$ cov(X, X^2) =  E(X^3) - [E(X)E(X^2) ]$"
   ]
  },
  {
   "cell_type": "code",
   "execution_count": 98,
   "metadata": {
    "scrolled": true
   },
   "outputs": [
    {
     "data": {
      "text/plain": [
       "480.0"
      ]
     },
     "execution_count": 98,
     "metadata": {},
     "output_type": "execute_result"
    }
   ],
   "source": [
    "chi2.moment(n=3, df=df) - (chi2.moment(n=1, df=df) * chi2.moment(n=2, df=df))"
   ]
  },
  {
   "cell_type": "markdown",
   "metadata": {},
   "source": [
    "### Задание 2"
   ]
  },
  {
   "cell_type": "markdown",
   "metadata": {},
   "source": [
    "То же самое для Стьюдента df=10"
   ]
  },
  {
   "cell_type": "code",
   "execution_count": 99,
   "metadata": {},
   "outputs": [],
   "source": [
    "df = 10"
   ]
  },
  {
   "cell_type": "markdown",
   "metadata": {},
   "source": [
    "__1. P(X <= 1.5)__"
   ]
  },
  {
   "cell_type": "code",
   "execution_count": 100,
   "metadata": {},
   "outputs": [
    {
     "data": {
      "text/plain": [
       "0.9177463367772799"
      ]
     },
     "execution_count": 100,
     "metadata": {},
     "output_type": "execute_result"
    }
   ],
   "source": [
    "t.cdf(1.5, df=df)"
   ]
  },
  {
   "cell_type": "markdown",
   "metadata": {},
   "source": [
    "__2. P(X > 1.5)__"
   ]
  },
  {
   "cell_type": "code",
   "execution_count": 101,
   "metadata": {},
   "outputs": [
    {
     "data": {
      "text/plain": [
       "0.0822536632227201"
      ]
     },
     "execution_count": 101,
     "metadata": {},
     "output_type": "execute_result"
    }
   ],
   "source": [
    "1 - t.cdf(1.5, df=df)"
   ]
  },
  {
   "cell_type": "markdown",
   "metadata": {},
   "source": [
    "__3. P(1.5 <= X <= 2)__"
   ]
  },
  {
   "cell_type": "code",
   "execution_count": 102,
   "metadata": {},
   "outputs": [
    {
     "data": {
      "text/plain": [
       "0.04555964583734984"
      ]
     },
     "execution_count": 102,
     "metadata": {},
     "output_type": "execute_result"
    }
   ],
   "source": [
    "t.cdf(2, df=df) - t.cdf(1.5, df=df)"
   ]
  },
  {
   "cell_type": "markdown",
   "metadata": {},
   "source": [
    "__4. E(X), Var(X), Median(X)__"
   ]
  },
  {
   "cell_type": "code",
   "execution_count": 103,
   "metadata": {},
   "outputs": [
    {
     "data": {
      "text/plain": [
       "0.0"
      ]
     },
     "execution_count": 103,
     "metadata": {},
     "output_type": "execute_result"
    },
    {
     "data": {
      "text/plain": [
       "1.25"
      ]
     },
     "execution_count": 103,
     "metadata": {},
     "output_type": "execute_result"
    },
    {
     "data": {
      "text/plain": [
       "6.80574793290978e-17"
      ]
     },
     "execution_count": 103,
     "metadata": {},
     "output_type": "execute_result"
    }
   ],
   "source": [
    "t.mean(df=df)\n",
    "t.var(df=df)\n",
    "t.median(df=df)"
   ]
  },
  {
   "cell_type": "markdown",
   "metadata": {},
   "source": [
    "__5. E(X ^ 3)__"
   ]
  },
  {
   "cell_type": "code",
   "execution_count": 104,
   "metadata": {},
   "outputs": [
    {
     "data": {
      "text/plain": [
       "0.0"
      ]
     },
     "execution_count": 104,
     "metadata": {},
     "output_type": "execute_result"
    }
   ],
   "source": [
    "t.moment(n=3, df=df)"
   ]
  },
  {
   "cell_type": "markdown",
   "metadata": {},
   "source": [
    "__6. Квантиль уровня 0.1__"
   ]
  },
  {
   "cell_type": "code",
   "execution_count": 105,
   "metadata": {},
   "outputs": [
    {
     "data": {
      "text/plain": [
       "-1.3721836411102861"
      ]
     },
     "execution_count": 105,
     "metadata": {},
     "output_type": "execute_result"
    }
   ],
   "source": [
    "t.ppf(q=0.1, df=df)"
   ]
  },
  {
   "cell_type": "markdown",
   "metadata": {},
   "source": [
    "__7. Cov(X, X ^ 2)__"
   ]
  },
  {
   "cell_type": "markdown",
   "metadata": {},
   "source": [
    "$ cov(X, X^2) =  E(X^3) - [E(X)E(X^2) ]$"
   ]
  },
  {
   "cell_type": "code",
   "execution_count": 106,
   "metadata": {
    "scrolled": true
   },
   "outputs": [
    {
     "data": {
      "text/plain": [
       "0.0"
      ]
     },
     "execution_count": 106,
     "metadata": {},
     "output_type": "execute_result"
    }
   ],
   "source": [
    "t.moment(n=3, df=df) - (t.moment(n=1, df=df) * t.moment(n=2, df=df))"
   ]
  },
  {
   "cell_type": "markdown",
   "metadata": {},
   "source": [
    "### Задание 2"
   ]
  },
  {
   "cell_type": "markdown",
   "metadata": {},
   "source": [
    "То же самое для Фишера df1=10, df2=8"
   ]
  },
  {
   "cell_type": "code",
   "execution_count": 107,
   "metadata": {},
   "outputs": [],
   "source": [
    "df1 = 10\n",
    "df2 = 8"
   ]
  },
  {
   "cell_type": "markdown",
   "metadata": {},
   "source": [
    "__1. P(X <= 1.5)__"
   ]
  },
  {
   "cell_type": "code",
   "execution_count": 108,
   "metadata": {},
   "outputs": [
    {
     "data": {
      "text/plain": [
       "0.7110457163218693"
      ]
     },
     "execution_count": 108,
     "metadata": {},
     "output_type": "execute_result"
    }
   ],
   "source": [
    "f.cdf(1.5, dfn=df1, dfd=df2)"
   ]
  },
  {
   "cell_type": "markdown",
   "metadata": {},
   "source": [
    "__2. P(X > 1.5)__"
   ]
  },
  {
   "cell_type": "code",
   "execution_count": 109,
   "metadata": {},
   "outputs": [
    {
     "data": {
      "text/plain": [
       "0.2889542836781307"
      ]
     },
     "execution_count": 109,
     "metadata": {},
     "output_type": "execute_result"
    }
   ],
   "source": [
    "1 - f.cdf(1.5, dfn=df1, dfd=df2)"
   ]
  },
  {
   "cell_type": "markdown",
   "metadata": {},
   "source": [
    "__3. P(1.5 <= X <= 2)__"
   ]
  },
  {
   "cell_type": "code",
   "execution_count": 110,
   "metadata": {},
   "outputs": [
    {
     "data": {
      "text/plain": [
       "0.11996735767669531"
      ]
     },
     "execution_count": 110,
     "metadata": {},
     "output_type": "execute_result"
    }
   ],
   "source": [
    "f.cdf(2, dfn=df1, dfd=df2) - f.cdf(1.5, dfn=df1, dfd=df2)"
   ]
  },
  {
   "cell_type": "markdown",
   "metadata": {},
   "source": [
    "__4. E(X), Var(X), Median(X)__"
   ]
  },
  {
   "cell_type": "code",
   "execution_count": 111,
   "metadata": {},
   "outputs": [
    {
     "data": {
      "text/plain": [
       "1.3333333333333333"
      ]
     },
     "execution_count": 111,
     "metadata": {},
     "output_type": "execute_result"
    },
    {
     "data": {
      "text/plain": [
       "1.4222222222222223"
      ]
     },
     "execution_count": 111,
     "metadata": {},
     "output_type": "execute_result"
    },
    {
     "data": {
      "text/plain": [
       "1.0175407028614551"
      ]
     },
     "execution_count": 111,
     "metadata": {},
     "output_type": "execute_result"
    }
   ],
   "source": [
    "f.mean(dfn=df1, dfd=df2)\n",
    "f.var(dfn=df1, dfd=df2)\n",
    "f.median(dfn=df1, dfd=df2)"
   ]
  },
  {
   "cell_type": "markdown",
   "metadata": {},
   "source": [
    "__5. E(X ^ 3)__"
   ]
  },
  {
   "cell_type": "code",
   "execution_count": 112,
   "metadata": {},
   "outputs": [
    {
     "data": {
      "text/plain": [
       "17.92"
      ]
     },
     "execution_count": 112,
     "metadata": {},
     "output_type": "execute_result"
    }
   ],
   "source": [
    "f.moment(n=3, dfn=df1, dfd=df2)"
   ]
  },
  {
   "cell_type": "markdown",
   "metadata": {},
   "source": [
    "__6. Квантиль уровня 0.1__"
   ]
  },
  {
   "cell_type": "code",
   "execution_count": 113,
   "metadata": {},
   "outputs": [
    {
     "data": {
      "text/plain": [
       "0.4206718088786043"
      ]
     },
     "execution_count": 113,
     "metadata": {},
     "output_type": "execute_result"
    }
   ],
   "source": [
    "f.ppf(q=0.1, dfn=df1, dfd=df2)"
   ]
  },
  {
   "cell_type": "markdown",
   "metadata": {},
   "source": [
    "__7. Cov(X, X ^ 2)__"
   ]
  },
  {
   "cell_type": "markdown",
   "metadata": {},
   "source": [
    "$ cov(X, X^2) =  E(X^3) - [E(X)E(X^2) ]$"
   ]
  },
  {
   "cell_type": "code",
   "execution_count": 114,
   "metadata": {
    "scrolled": true
   },
   "outputs": [
    {
     "data": {
      "text/plain": [
       "13.653333333333336"
      ]
     },
     "execution_count": 114,
     "metadata": {},
     "output_type": "execute_result"
    }
   ],
   "source": [
    "f.moment(n=3, dfn=df1, dfd=df2) - (f.moment(n=1, dfn=df1, dfd=df2) * f.moment(n=2, dfn=df1, dfd=df2))"
   ]
  },
  {
   "cell_type": "markdown",
   "metadata": {},
   "source": [
    "# Генерация выборок из распределений"
   ]
  },
  {
   "cell_type": "code",
   "execution_count": 188,
   "metadata": {},
   "outputs": [],
   "source": [
    "import sys\n",
    "import math\n",
    "import pandas as pd\n",
    "import numpy as np\n",
    "import scipy\n",
    "import matplotlib.pyplot as plt\n",
    "from scipy.stats import t, chi2, f, norm, poisson, binom, uniform\n",
    "\n",
    "np.set_printoptions(suppress = True)                      # уберем scientific notation"
   ]
  },
  {
   "cell_type": "markdown",
   "metadata": {},
   "source": [
    "## Задания"
   ]
  },
  {
   "cell_type": "markdown",
   "metadata": {},
   "source": [
    "### Задание 1"
   ]
  },
  {
   "cell_type": "markdown",
   "metadata": {},
   "source": [
    "__Симулируйте выборку объемом в 10000\n",
    "наблюдений из распределения:__"
   ]
  },
  {
   "cell_type": "markdown",
   "metadata": {},
   "source": [
    "__Хи-Квадрат с 5-ю степенями свободы__"
   ]
  },
  {
   "cell_type": "code",
   "execution_count": 141,
   "metadata": {},
   "outputs": [
    {
     "data": {
      "text/plain": [
       "array([ 7.94459933, 10.21188471,  5.46235551, ...,  2.17124364,\n",
       "        7.28194023,  2.23372137])"
      ]
     },
     "execution_count": 141,
     "metadata": {},
     "output_type": "execute_result"
    }
   ],
   "source": [
    "chi2_5 = chi2.rvs(size = 10000, df = 5)  \n",
    "chi2_5"
   ]
  },
  {
   "cell_type": "markdown",
   "metadata": {},
   "source": [
    "__Стьюдента с 10-ю степенями свободы__"
   ]
  },
  {
   "cell_type": "code",
   "execution_count": 142,
   "metadata": {},
   "outputs": [
    {
     "data": {
      "text/plain": [
       "array([ 0.78338128, -0.40263647, -0.36275884, ..., -0.19644474,\n",
       "        1.58799435,  0.20624474])"
      ]
     },
     "execution_count": 142,
     "metadata": {},
     "output_type": "execute_result"
    }
   ],
   "source": [
    "t_10 = t.rvs(size=10000, df=10)\n",
    "t_10"
   ]
  },
  {
   "cell_type": "markdown",
   "metadata": {},
   "source": [
    "__Нормального с математическим ожиданием 10\n",
    "и дисперсией 25__"
   ]
  },
  {
   "cell_type": "code",
   "execution_count": 143,
   "metadata": {},
   "outputs": [
    {
     "data": {
      "text/plain": [
       "array([ 5.76436361,  5.85589895,  3.9085112 , ..., 18.65777103,\n",
       "       15.0008133 , 15.18580873])"
      ]
     },
     "execution_count": 143,
     "metadata": {},
     "output_type": "execute_result"
    }
   ],
   "source": [
    "norm_10_25 = norm.rvs(size=10000, loc=10, scale=5)\n",
    "norm_10_25"
   ]
  },
  {
   "cell_type": "markdown",
   "metadata": {},
   "source": [
    "### Задание 2 "
   ]
  },
  {
   "cell_type": "markdown",
   "metadata": {},
   "source": [
    "__Симулируйте выборку из Хи-Квадрат распределения\n",
    "с 10-ю степенями свободы. При помощи ЗБЧ найдите\n",
    "аппроксимации:__"
   ]
  },
  {
   "cell_type": "code",
   "execution_count": 144,
   "metadata": {},
   "outputs": [],
   "source": [
    "np.random.seed(42)\n",
    "chi2_10 = chi2.rvs(size=10000, df=10)\n",
    "df=10"
   ]
  },
  {
   "cell_type": "code",
   "execution_count": 145,
   "metadata": {},
   "outputs": [
    {
     "data": {
      "text/plain": [
       "10.0"
      ]
     },
     "execution_count": 145,
     "metadata": {},
     "output_type": "execute_result"
    },
    {
     "data": {
      "text/plain": [
       "1680.0"
      ]
     },
     "execution_count": 145,
     "metadata": {},
     "output_type": "execute_result"
    },
    {
     "data": {
      "text/plain": [
       "20.0"
      ]
     },
     "execution_count": 145,
     "metadata": {},
     "output_type": "execute_result"
    },
    {
     "data": {
      "text/plain": [
       "9.34181776559197"
      ]
     },
     "execution_count": 145,
     "metadata": {},
     "output_type": "execute_result"
    },
    {
     "data": {
      "text/plain": [
       "0.0018346464720195217"
      ]
     },
     "execution_count": 145,
     "metadata": {},
     "output_type": "execute_result"
    },
    {
     "data": {
      "text/plain": [
       "7.267218165927605"
      ]
     },
     "execution_count": 145,
     "metadata": {},
     "output_type": "execute_result"
    }
   ],
   "source": [
    "# Для проверки\n",
    "\n",
    "chi2.mean(df=df)\n",
    "chi2.moment(n=3, df=df)\n",
    "chi2.var(df=df)\n",
    "chi2.median(df=df)\n",
    "chi2.cdf(1.7, df=df)\n",
    "chi2.ppf(q=0.3, df=df)"
   ]
  },
  {
   "cell_type": "markdown",
   "metadata": {},
   "source": [
    "__1. E(X)__"
   ]
  },
  {
   "cell_type": "code",
   "execution_count": 146,
   "metadata": {},
   "outputs": [
    {
     "data": {
      "text/plain": [
       "10.07088558531192"
      ]
     },
     "execution_count": 146,
     "metadata": {},
     "output_type": "execute_result"
    }
   ],
   "source": [
    "np.mean(chi2_10)"
   ]
  },
  {
   "cell_type": "markdown",
   "metadata": {},
   "source": [
    "__2.  E(X ^ 3)__"
   ]
  },
  {
   "cell_type": "code",
   "execution_count": 147,
   "metadata": {},
   "outputs": [
    {
     "data": {
      "text/plain": [
       "1693.2111614912476"
      ]
     },
     "execution_count": 147,
     "metadata": {},
     "output_type": "execute_result"
    }
   ],
   "source": [
    "np.mean(chi2_10**3)"
   ]
  },
  {
   "cell_type": "markdown",
   "metadata": {},
   "source": [
    "__3. Var(X)__"
   ]
  },
  {
   "cell_type": "markdown",
   "metadata": {},
   "source": [
    "$Var(X)=E(X^2) - E^2(X)$"
   ]
  },
  {
   "cell_type": "code",
   "execution_count": 148,
   "metadata": {},
   "outputs": [
    {
     "data": {
      "text/plain": [
       "19.696279456510467"
      ]
     },
     "execution_count": 148,
     "metadata": {},
     "output_type": "execute_result"
    }
   ],
   "source": [
    "np.mean(chi2_10 ** 2) - (np.mean(chi2_10) ** 2)"
   ]
  },
  {
   "cell_type": "markdown",
   "metadata": {},
   "source": [
    "__4. Median(X)__"
   ]
  },
  {
   "cell_type": "code",
   "execution_count": 149,
   "metadata": {},
   "outputs": [
    {
     "data": {
      "text/plain": [
       "9.40080444593869"
      ]
     },
     "execution_count": 149,
     "metadata": {},
     "output_type": "execute_result"
    }
   ],
   "source": [
    "# (0.5 * n) - номер нужного нам элемента вариационного ряда\n",
    "q = int(0.5 * len(chi2_10))\n",
    "\n",
    "# Выбираем из вариационного ряда нужный элемент\n",
    "np.sort(chi2_10)[(q-1)]"
   ]
  },
  {
   "cell_type": "markdown",
   "metadata": {},
   "source": [
    "__5. P(X <= 1.7)__"
   ]
  },
  {
   "cell_type": "code",
   "execution_count": 150,
   "metadata": {},
   "outputs": [
    {
     "data": {
      "text/plain": [
       "0.0028"
      ]
     },
     "execution_count": 150,
     "metadata": {},
     "output_type": "execute_result"
    }
   ],
   "source": [
    "np.mean(chi2_10 <= 1.7)"
   ]
  },
  {
   "cell_type": "markdown",
   "metadata": {},
   "source": [
    "__6. квантиль X уровня 0.3__"
   ]
  },
  {
   "cell_type": "code",
   "execution_count": 151,
   "metadata": {},
   "outputs": [
    {
     "data": {
      "text/plain": [
       "7.328139831432642"
      ]
     },
     "execution_count": 151,
     "metadata": {},
     "output_type": "execute_result"
    }
   ],
   "source": [
    "# (0.3 * n) - номер нужного нам элемента вариационного ряда\n",
    "q = int(0.3 * len(chi2_10))\n",
    "\n",
    "# Выбираем из вариационного ряда нужный элемент\n",
    "np.sort(chi2_10)[(q-1)]"
   ]
  },
  {
   "cell_type": "markdown",
   "metadata": {},
   "source": [
    "__7. Var(sin(X))__"
   ]
  },
  {
   "cell_type": "markdown",
   "metadata": {},
   "source": [
    "$Var(sin(X))=E(sin^2(X)) - E^2(sin(X))$"
   ]
  },
  {
   "cell_type": "code",
   "execution_count": 152,
   "metadata": {},
   "outputs": [
    {
     "data": {
      "text/plain": [
       "0.49377015670761326"
      ]
     },
     "execution_count": 152,
     "metadata": {},
     "output_type": "execute_result"
    }
   ],
   "source": [
    "np.mean(np.sin(chi2_10) ** 2) - (np.mean(np.sin(chi2_10))**2)"
   ]
  },
  {
   "cell_type": "markdown",
   "metadata": {},
   "source": [
    "### Задание 3"
   ]
  },
  {
   "cell_type": "markdown",
   "metadata": {},
   "source": [
    "__Пусть X и Y независимые случайные величины, причем $X\\sim U(1,5)$ и $Y \\sim chi2(5)$. При помощи ЗБЧ аппроксимируйте:__"
   ]
  },
  {
   "cell_type": "code",
   "execution_count": 153,
   "metadata": {},
   "outputs": [],
   "source": [
    "np.random.seed(42)\n",
    "X = np.random.uniform(size=10000, low=1, high=5)\n",
    "Y = chi2.rvs(size=10000, df=5)"
   ]
  },
  {
   "cell_type": "markdown",
   "metadata": {},
   "source": [
    "__1. E(X + Y)__"
   ]
  },
  {
   "cell_type": "code",
   "execution_count": 154,
   "metadata": {},
   "outputs": [
    {
     "data": {
      "text/plain": [
       "8.012697222042819"
      ]
     },
     "execution_count": 154,
     "metadata": {},
     "output_type": "execute_result"
    }
   ],
   "source": [
    "np.mean(X + Y)"
   ]
  },
  {
   "cell_type": "markdown",
   "metadata": {},
   "source": [
    "__2. P(X - Y <= 2)__"
   ]
  },
  {
   "cell_type": "code",
   "execution_count": 155,
   "metadata": {},
   "outputs": [
    {
     "data": {
      "text/plain": [
       "0.9251"
      ]
     },
     "execution_count": 155,
     "metadata": {},
     "output_type": "execute_result"
    }
   ],
   "source": [
    "np.mean((X - Y) <= 2)"
   ]
  },
  {
   "cell_type": "markdown",
   "metadata": {},
   "source": [
    "__3. Var(X / Y)__"
   ]
  },
  {
   "cell_type": "markdown",
   "metadata": {},
   "source": [
    "$Var (\\frac{X}{Y})=E((\\frac{X}{Y})^2) - E^2(\\frac{X}{Y})$"
   ]
  },
  {
   "cell_type": "code",
   "execution_count": 156,
   "metadata": {},
   "outputs": [
    {
     "data": {
      "text/plain": [
       "1.9786592586134222"
      ]
     },
     "execution_count": 156,
     "metadata": {},
     "output_type": "execute_result"
    }
   ],
   "source": [
    "np.mean((X / Y) ** 2) - np.mean(X / Y) ** 2"
   ]
  },
  {
   "cell_type": "markdown",
   "metadata": {},
   "source": [
    "### Задание 4"
   ]
  },
  {
   "cell_type": "markdown",
   "metadata": {},
   "source": [
    "В предыдущих задачах постройте графики, демонстрирующие,\n",
    "что вероятность отклонения аппроксимаций от истинных\n",
    "значений снижается по мере увеличения объема выборки.\n",
    "В качестве метрики используйте:"
   ]
  },
  {
   "cell_type": "markdown",
   "metadata": {},
   "source": [
    "__1. Абсолютное отклонение__"
   ]
  },
  {
   "cell_type": "code",
   "execution_count": 157,
   "metadata": {
    "scrolled": true
   },
   "outputs": [
    {
     "data": {
      "image/png": "[encoded data removed]",
      "text/plain": [
       "<Figure size 432x288 with 1 Axes>"
      ]
     },
     "metadata": {
      "needs_background": "light"
     },
     "output_type": "display_data"
    }
   ],
   "source": [
    "np.random.seed(42)                                          \n",
    "chi2_10_new = chi2.rvs(size = 100000, df=10)                \n",
    "step = 10                                              \n",
    "                                                       \n",
    "m = int(len(chi2_10_new) / step)                            \n",
    "chi2_10_mean = np.zeros(m)                                  \n",
    "                \n",
    "for i in range(0, m):\n",
    "    chi2_10_mean[i] = np.mean(chi2_10_new[0:((i + 1) * step - 1)])  \n",
    "dev = abs(chi2_10_mean - 10)                       \n",
    "    \n",
    "# Визуализируем результат\n",
    "plt.xlabel('Sample Size / ' + str(step))\n",
    "plt.ylabel('|E(U) - mean(u)|')\n",
    "plt.title('|E(U) - mean(u)|')\n",
    "plt.ylim(ymin = 0, ymax = max(dev))\n",
    "plt.plot(dev, 'ro', markersize = 1);"
   ]
  },
  {
   "cell_type": "code",
   "execution_count": 158,
   "metadata": {},
   "outputs": [
    {
     "data": {
      "image/png": "[encoded data removed]",
      "text/plain": [
       "<Figure size 432x288 with 1 Axes>"
      ]
     },
     "metadata": {
      "needs_background": "light"
     },
     "output_type": "display_data"
    }
   ],
   "source": [
    "np.random.seed(42)                                          \n",
    "chi2_10_new = chi2.rvs(size = 100000, df=10)                \n",
    "step = 10                                              \n",
    "                                                       \n",
    "m = int(len(chi2_10_new) / step)                            \n",
    "chi2_10_moments_3 = np.zeros(m)                                  \n",
    "                \n",
    "for i in range(0, m):\n",
    "    chi2_10_moments_3[i] = np.mean(chi2_10_new[0:((i + 1) * step - 1)] ** 3)  \n",
    "dev = abs(chi2_10_moments_3 - chi2.moment(n=3, df=10))                       \n",
    "    \n",
    "# Визуализируем результат\n",
    "plt.xlabel('Sample Size / ' + str(step))\n",
    "plt.ylabel('|E(U^3) - mean(u^3)|')\n",
    "plt.title('|E(U^3) - mean(u^3)|')\n",
    "plt.ylim(ymin = 0, ymax = max(dev))\n",
    "plt.plot(dev, 'ro', markersize = 1);"
   ]
  },
  {
   "cell_type": "code",
   "execution_count": 159,
   "metadata": {},
   "outputs": [
    {
     "data": {
      "image/png": "[encoded data removed]",
      "text/plain": [
       "<Figure size 432x288 with 1 Axes>"
      ]
     },
     "metadata": {
      "needs_background": "light"
     },
     "output_type": "display_data"
    }
   ],
   "source": [
    "np.random.seed(42)                                          \n",
    "chi2_10_new = chi2.rvs(size = 100000, df=10)                \n",
    "step = 10                                              \n",
    "                                                       \n",
    "m = int(len(chi2_10_new) / step)                            \n",
    "chi2_10_Var = np.zeros(m)                                  \n",
    "                \n",
    "for i in range(0, m):\n",
    "    chi2_10_Var[i] = np.var(chi2_10_new[0:((i + 1) * step - 1)])  \n",
    "dev = abs(chi2_10_Var - 20)                       \n",
    "    \n",
    "# Визуализируем результат\n",
    "plt.xlabel('Sample Size / ' + str(step))\n",
    "plt.ylabel('|Var(U) - var(u)|')\n",
    "plt.title('|Var(U) - var(u)|')\n",
    "plt.ylim(ymin = 0, ymax = max(dev))\n",
    "plt.plot(dev, 'ro', markersize = 1);"
   ]
  },
  {
   "cell_type": "code",
   "execution_count": 160,
   "metadata": {},
   "outputs": [
    {
     "data": {
      "image/png": "[encoded data removed]",
      "text/plain": [
       "<Figure size 432x288 with 1 Axes>"
      ]
     },
     "metadata": {
      "needs_background": "light"
     },
     "output_type": "display_data"
    }
   ],
   "source": [
    "np.random.seed(42)                                          \n",
    "chi2_10_new = chi2.rvs(size = 100000, df=10)                \n",
    "step = 10                                              \n",
    "                                                       \n",
    "m = int(len(chi2_10_new) / step)                            \n",
    "chi2_10_median = np.zeros(m)                                  \n",
    "                \n",
    "for i in range(0, m):\n",
    "    chi2_10_median[i] = np.median(chi2_10_new[0:((i + 1) * step - 1)])  \n",
    "dev = abs(chi2_10_median - chi2.median(df=10))                       \n",
    "    \n",
    "# Визуализируем результат\n",
    "plt.xlabel('Sample Size / ' + str(step))\n",
    "plt.ylabel('|Median(U) - median(u)|')\n",
    "plt.title('|Median(U) - medain(u)|')\n",
    "plt.ylim(ymin = 0, ymax = max(dev))\n",
    "plt.plot(dev, 'ro', markersize = 1);"
   ]
  },
  {
   "cell_type": "code",
   "execution_count": 161,
   "metadata": {},
   "outputs": [
    {
     "data": {
      "image/png": "[encoded data removed]",
      "text/plain": [
       "<Figure size 432x288 with 1 Axes>"
      ]
     },
     "metadata": {
      "needs_background": "light"
     },
     "output_type": "display_data"
    }
   ],
   "source": [
    "np.random.seed(42)                                          \n",
    "chi2_10_new = chi2.rvs(size = 100000, df=10)                \n",
    "step = 10                                              \n",
    "                                                       \n",
    "m = int(len(chi2_10_new) / step)                            \n",
    "chi2_10_q = np.zeros(m)                                  \n",
    "                \n",
    "for i in range(0, m):\n",
    "    chi2_10_q[i] = np.mean(chi2_10_new[0:((i + 1) * step - 1)] <= 1.7)  \n",
    "dev = abs(chi2_10_q - chi2.cdf(1.7, df=10))                       \n",
    "    \n",
    "# Визуализируем результат\n",
    "plt.xlabel('Sample Size / ' + str(step))\n",
    "plt.ylabel('|P(U <= 1.7) - F_U(1.7)|')\n",
    "plt.title('|P(U <= 1.7) - F_U(1.7)|')\n",
    "plt.ylim(ymin = 0, ymax = max(dev))\n",
    "plt.plot(dev, 'ro', markersize = 1);"
   ]
  },
  {
   "cell_type": "code",
   "execution_count": 162,
   "metadata": {
    "scrolled": true
   },
   "outputs": [
    {
     "data": {
      "image/png": "[encoded data removed]",
      "text/plain": [
       "<Figure size 432x288 with 1 Axes>"
      ]
     },
     "metadata": {
      "needs_background": "light"
     },
     "output_type": "display_data"
    }
   ],
   "source": [
    "np.random.seed(42)                                          \n",
    "chi2_10_new = chi2.rvs(size = 100000, df=10)                \n",
    "step = 10                                              \n",
    "                                                       \n",
    "m = int(len(chi2_10_new) / step)                            \n",
    "chi2_10_q = np.zeros(m)                                  \n",
    "                \n",
    "for i in range(0, m):\n",
    "    chi2_10_q[i] = np.quantile(chi2_10_new[0:((i + 1) * step - 1)], 0.3)  \n",
    "dev = abs(chi2_10_q - chi2.ppf(0.3, df=10))                       \n",
    "    \n",
    "# Визуализируем результат\n",
    "plt.xlabel('Sample Size / ' + str(step))\n",
    "plt.title('Отклонение аппрокcимации квантили уровня 0.3')\n",
    "plt.ylim(ymin = 0, ymax = max(dev))\n",
    "plt.plot(dev, 'ro', markersize = 1);"
   ]
  },
  {
   "cell_type": "markdown",
   "metadata": {},
   "source": [
    "__2. Квадрат абсолютного отклонения__"
   ]
  },
  {
   "cell_type": "code",
   "execution_count": 163,
   "metadata": {
    "scrolled": true
   },
   "outputs": [
    {
     "data": {
      "image/png": "[encoded data removed]",
      "text/plain": [
       "<Figure size 432x288 with 1 Axes>"
      ]
     },
     "metadata": {
      "needs_background": "light"
     },
     "output_type": "display_data"
    }
   ],
   "source": [
    "np.random.seed(42)                                          \n",
    "chi2_10_new = chi2.rvs(size = 100000, df=10)                \n",
    "step = 10                                              \n",
    "                                                       \n",
    "m = int(len(chi2_10_new) / step)                            \n",
    "chi2_10_mean = np.zeros(m)                                  \n",
    "                \n",
    "for i in range(0, m):\n",
    "    chi2_10_mean[i] = np.mean(chi2_10_new[0:((i + 1) * step - 1)])  \n",
    "dev = (abs(chi2_10_mean - 10)) ** 2                      \n",
    "    \n",
    "# Визуализируем результат\n",
    "plt.xlabel('Sample Size / ' + str(step))\n",
    "plt.ylabel('|E(U) - mean(u)| ^ 2')\n",
    "plt.title('|E(U) - mean(u)| ^ 2')\n",
    "plt.ylim(ymin = 0, ymax = max(dev))\n",
    "plt.plot(dev, 'ro', markersize = 1);"
   ]
  },
  {
   "cell_type": "code",
   "execution_count": 164,
   "metadata": {},
   "outputs": [
    {
     "data": {
      "image/png": "[encoded data removed]",
      "text/plain": [
       "<Figure size 432x288 with 1 Axes>"
      ]
     },
     "metadata": {
      "needs_background": "light"
     },
     "output_type": "display_data"
    }
   ],
   "source": [
    "np.random.seed(42)                                          \n",
    "chi2_10_new = chi2.rvs(size = 100000, df=10)                \n",
    "step = 10                                              \n",
    "                                                       \n",
    "m = int(len(chi2_10_new) / step)                            \n",
    "chi2_10_moments_3 = np.zeros(m)                                  \n",
    "                \n",
    "for i in range(0, m):\n",
    "    chi2_10_moments_3[i] = np.mean(chi2_10_new[0:((i + 1) * step - 1)] ** 3)  \n",
    "dev = (abs(chi2_10_moments_3 - chi2.moment(n=3, df=10))) ** 2                       \n",
    "    \n",
    "# Визуализируем результат\n",
    "plt.xlabel('Sample Size / ' + str(step))\n",
    "plt.ylabel('|E(U^3) - mean(u^3)| ^ 2')\n",
    "plt.title('|E(U^3) - mean(u^3)| ^ 2')\n",
    "plt.ylim(ymin = 0, ymax = max(dev))\n",
    "plt.plot(dev, 'ro', markersize = 1);"
   ]
  },
  {
   "cell_type": "code",
   "execution_count": 165,
   "metadata": {},
   "outputs": [
    {
     "data": {
      "image/png": "[encoded data removed]",
      "text/plain": [
       "<Figure size 432x288 with 1 Axes>"
      ]
     },
     "metadata": {
      "needs_background": "light"
     },
     "output_type": "display_data"
    }
   ],
   "source": [
    "np.random.seed(42)                                          \n",
    "chi2_10_new = chi2.rvs(size = 100000, df=10)                \n",
    "step = 10                                              \n",
    "                                                       \n",
    "m = int(len(chi2_10_new) / step)                            \n",
    "chi2_10_Var = np.zeros(m)                                  \n",
    "                \n",
    "for i in range(0, m):\n",
    "    chi2_10_Var[i] = np.var(chi2_10_new[0:((i + 1) * step - 1)])  \n",
    "dev = (abs(chi2_10_Var - 20)) ** 2                       \n",
    "    \n",
    "# Визуализируем результат\n",
    "plt.xlabel('Sample Size / ' + str(step))\n",
    "plt.ylabel('|Var(U) - var(u)| ^ 2')\n",
    "plt.title('|Var(U) - var(u)| ^ 2')\n",
    "plt.ylim(ymin = 0, ymax = max(dev))\n",
    "plt.plot(dev, 'ro', markersize = 1);"
   ]
  },
  {
   "cell_type": "code",
   "execution_count": 166,
   "metadata": {},
   "outputs": [
    {
     "data": {
      "image/png": "[encoded data removed]",
      "text/plain": [
       "<Figure size 432x288 with 1 Axes>"
      ]
     },
     "metadata": {
      "needs_background": "light"
     },
     "output_type": "display_data"
    }
   ],
   "source": [
    "np.random.seed(42)                                          \n",
    "chi2_10_new = chi2.rvs(size = 100000, df=10)                \n",
    "step = 10                                              \n",
    "                                                       \n",
    "m = int(len(chi2_10_new) / step)                            \n",
    "chi2_10_median = np.zeros(m)                                  \n",
    "                \n",
    "for i in range(0, m):\n",
    "    chi2_10_median[i] = np.median(chi2_10_new[0:((i + 1) * step - 1)])  \n",
    "dev = (abs(chi2_10_median - chi2.median(df=10))) ** 2                       \n",
    "    \n",
    "# Визуализируем результат\n",
    "plt.xlabel('Sample Size / ' + str(step))\n",
    "plt.ylabel('|Median(U) - median(u)| ^ 2')\n",
    "plt.title('|Median(U) - medain(u)| ^ 2')\n",
    "plt.ylim(ymin = 0, ymax = max(dev))\n",
    "plt.plot(dev, 'ro', markersize = 1);"
   ]
  },
  {
   "cell_type": "code",
   "execution_count": 167,
   "metadata": {},
   "outputs": [
    {
     "data": {
      "image/png": "[encoded data removed]",
      "text/plain": [
       "<Figure size 432x288 with 1 Axes>"
      ]
     },
     "metadata": {
      "needs_background": "light"
     },
     "output_type": "display_data"
    }
   ],
   "source": [
    "np.random.seed(42)                                          \n",
    "chi2_10_new = chi2.rvs(size = 100000, df=10)                \n",
    "step = 10                                              \n",
    "                                                       \n",
    "m = int(len(chi2_10_new) / step)                            \n",
    "chi2_10_q = np.zeros(m)                                  \n",
    "                \n",
    "for i in range(0, m):\n",
    "    chi2_10_q[i] = np.mean(chi2_10_new[0:((i + 1) * step - 1)] <= 1.7)  \n",
    "dev = (abs(chi2_10_q - chi2.cdf(1.7, df=10))) ** 2                       \n",
    "    \n",
    "# Визуализируем результат\n",
    "plt.xlabel('Sample Size / ' + str(step))\n",
    "plt.ylabel('|P(U <= 1.7) - F_U(1.7)| ^ 2')\n",
    "plt.title('|P(U <= 1.7) - F_U(1.7)| ^ 2')\n",
    "plt.ylim(ymin = 0, ymax = max(dev))\n",
    "plt.plot(dev, 'ro', markersize = 1);"
   ]
  },
  {
   "cell_type": "code",
   "execution_count": 168,
   "metadata": {
    "scrolled": true
   },
   "outputs": [
    {
     "data": {
      "image/png": "[encoded data removed]",
      "text/plain": [
       "<Figure size 432x288 with 1 Axes>"
      ]
     },
     "metadata": {
      "needs_background": "light"
     },
     "output_type": "display_data"
    }
   ],
   "source": [
    "np.random.seed(42)                                          \n",
    "chi2_10_new = chi2.rvs(size = 100000, df=10)                \n",
    "step = 10                                              \n",
    "                                                       \n",
    "m = int(len(chi2_10_new) / step)                            \n",
    "chi2_10_q = np.zeros(m)                                  \n",
    "                \n",
    "for i in range(0, m):\n",
    "    chi2_10_q[i] = np.quantile(chi2_10_new[0:((i + 1) * step - 1)], 0.3)  \n",
    "dev = (abs(chi2_10_q - chi2.ppf(0.3, df=10))) ** 2                       \n",
    "    \n",
    "# Визуализируем результат\n",
    "plt.xlabel('Sample Size / ' + str(step))\n",
    "plt.title('Отклонение аппрокcимации квантили уровня 0.3')\n",
    "plt.ylim(ymin = 0, ymax = max(dev))\n",
    "plt.plot(dev, 'ro', markersize = 1);"
   ]
  },
  {
   "cell_type": "markdown",
   "metadata": {},
   "source": [
    "### Задание 5"
   ]
  },
  {
   "cell_type": "markdown",
   "metadata": {},
   "source": [
    "Не используя встроенные функции симулируйте выборку из:"
   ]
  },
  {
   "cell_type": "markdown",
   "metadata": {},
   "source": [
    "__1. Распределения Бернулли с параметром p = 0.3__"
   ]
  },
  {
   "cell_type": "code",
   "execution_count": 169,
   "metadata": {},
   "outputs": [],
   "source": [
    "np.random.seed(42)\n",
    "n_new = 100000                                          # объем новой выборки из U~(0,1)\n",
    "u_new = np.random.uniform(size = n_new)"
   ]
  },
  {
   "cell_type": "code",
   "execution_count": 170,
   "metadata": {},
   "outputs": [
    {
     "data": {
      "text/plain": [
       "array([0., 0., 0., 0., 0., 0., 1., 1., 0., 0., 0., 1., 0., 0., 0., 0., 0.,\n",
       "       0., 0., 0., 1., 0., 0., 1., 0., 0., 0., 1., 0., 0., 0., 0., 1., 1.,\n",
       "       1., 0., 0., 1., 1., 0., 0., 0., 1., 1., 0., 0., 0., 0., 0., 0., 0.,\n",
       "       0., 0., 1., 1., 1., 0., 0., 0., 0., 1., 0., 0., 0., 1., 0., 0., 0.,\n",
       "       1., 0., 0., 1., 0., 0., 0., 0., 0., 1., 0., 0., 0., 1., 0., 0., 0.,\n",
       "       1., 0., 0., 1., 0., 0., 1., 0., 0., 0., 0., 0., 1., 0., 0., 1., 0.,\n",
       "       1., 0., 1., 1., 0., 0., 1., 1., 0., 0., 0., 1., 0., 1., 0., 0., 1.,\n",
       "       0., 0., 1., 0., 0., 0., 0., 0., 0., 0., 1., 1., 0., 0., 0., 1., 0.,\n",
       "       0., 1., 1., 0., 0., 0., 1., 0., 1., 1., 0., 0., 0., 0., 0., 0., 0.,\n",
       "       0., 0., 0., 1., 1., 1., 0., 1., 0., 0., 0., 0., 0., 0., 0., 0., 1.,\n",
       "       0., 1., 0., 1., 0., 0., 0., 0., 0., 0., 0., 1., 1., 0., 0., 1., 0.,\n",
       "       0., 1., 1., 1., 1., 0., 0., 0., 1., 1., 0., 1., 1., 0., 0., 1., 1.,\n",
       "       0., 1., 0., 0., 0., 0., 1., 0., 0., 0., 0., 1., 0., 0., 0., 0., 1.,\n",
       "       1., 0., 0., 0., 1., 0., 0., 0., 1., 0., 0., 0., 0., 1., 0., 1., 1.,\n",
       "       1., 1., 1., 0., 1., 0., 0., 0., 1., 1., 0., 0., 0., 0., 0., 0., 0.,\n",
       "       0., 0., 0., 1., 1., 0., 0., 1., 0., 0., 0., 0., 0., 0., 1., 0., 0.,\n",
       "       0., 0., 0., 0., 0., 0., 0., 0., 0., 0., 0., 0., 0., 0., 0., 0., 0.,\n",
       "       0., 1., 0., 0., 0., 0., 0., 1., 0., 0., 0., 0., 1., 0., 0., 0., 1.,\n",
       "       0., 0., 0., 0., 0., 1., 1., 0., 1., 1., 0., 0., 0., 1., 0., 0., 0.,\n",
       "       0., 0., 1., 0., 1., 0., 0., 0., 1., 0., 0., 0., 1., 0., 0., 0., 0.,\n",
       "       1., 0., 1., 1., 0., 1., 0., 0., 0., 1., 1., 0., 1., 0., 1., 1., 0.,\n",
       "       0., 1., 0., 0., 0., 0., 0., 1., 0., 0., 0., 0., 1., 0., 1., 0., 0.,\n",
       "       1., 0., 1., 0., 0., 0., 0., 1., 0., 0., 0., 0., 0., 1., 0., 0., 0.,\n",
       "       0., 0., 0., 0., 0., 0., 0., 0., 0., 0., 0., 1., 1., 0., 0., 1., 0.,\n",
       "       1., 0., 0., 0., 1., 0., 0., 1., 0., 0., 0., 0., 0., 0., 0., 0., 0.,\n",
       "       1., 0., 0., 1., 0., 1., 0., 1., 1., 1., 0., 1., 1., 0., 0., 0., 0.,\n",
       "       0., 0., 0., 0., 0., 0., 0., 1., 1., 0., 1., 0., 0., 0., 0., 0., 1.,\n",
       "       0., 0., 0., 0., 1., 1., 0., 0., 0., 0., 0., 0., 0., 0., 0., 1., 0.,\n",
       "       0., 0., 0., 1., 0., 0., 1., 0., 1., 1., 1., 0., 1., 0., 0., 0., 1.,\n",
       "       0., 0., 0., 1., 0., 1., 0., 1., 0., 0., 0., 0., 0., 0., 0., 0., 0.,\n",
       "       1., 0., 0., 0., 1., 1., 1., 1., 0., 0., 0., 1., 1., 0., 0., 0., 0.,\n",
       "       0., 0., 0., 1., 1., 0., 0., 0., 0., 0., 0., 1., 1., 0., 0., 0., 1.,\n",
       "       1., 1., 1., 1., 0., 0., 0., 1., 0., 0., 0., 1., 0., 0., 1., 0., 0.,\n",
       "       0., 1., 0., 1., 0., 1., 1., 0., 0., 1., 0., 0., 0., 0., 0., 0., 0.,\n",
       "       0., 0., 0., 0., 0., 0., 0., 0., 0., 0., 0., 0., 0., 0., 0., 0., 0.,\n",
       "       1., 1., 1., 0., 0., 0., 0., 0., 1., 1., 0., 0., 0., 0., 0., 0., 0.,\n",
       "       0., 0., 0., 0., 0., 0., 0., 0., 0., 0., 0., 0., 1., 0., 0., 0., 0.,\n",
       "       1., 1., 0., 1., 1., 1., 0., 0., 0., 1., 1., 0., 1., 1., 0., 0., 1.,\n",
       "       0., 0., 0., 0., 0., 1., 0., 0., 1., 0., 1., 0., 1., 0., 0., 1., 0.,\n",
       "       0., 0., 0., 0., 1., 0., 1., 0., 1., 0., 0., 0., 1., 0., 1., 1., 0.,\n",
       "       1., 0., 0., 0., 1., 0., 0., 0., 1., 0., 0., 0., 0., 0., 0., 0., 0.,\n",
       "       0., 1., 0., 0., 0., 1., 1., 0., 0., 0., 1., 0., 0., 0., 0., 0., 1.,\n",
       "       0., 1., 0., 1., 0., 0., 0., 0., 0., 1., 0., 0., 1., 1., 0., 1., 0.,\n",
       "       0., 0., 0., 0., 1., 0., 0., 1., 1., 0., 1., 1., 0., 0., 0., 0., 0.,\n",
       "       1., 0., 0., 0., 1., 0., 0., 1., 0., 0., 0., 0., 1., 0., 0., 0., 0.,\n",
       "       1., 0., 1., 0., 0., 0., 1., 0., 0., 0., 0., 0., 0., 0., 0., 1., 0.,\n",
       "       0., 0., 0., 0., 1., 0., 0., 1., 0., 0., 0., 1., 0., 0., 0., 1., 0.,\n",
       "       0., 0., 0., 0., 0., 1., 0., 1., 0., 0., 0., 0., 1., 0., 1., 0., 0.,\n",
       "       0., 0., 0., 1., 1., 1., 0., 0., 0., 1., 1., 0., 1., 1., 0., 0., 0.,\n",
       "       1., 0., 0., 0., 0., 0., 1., 0., 1., 0., 1., 0., 1., 0., 0., 1., 0.,\n",
       "       0., 0., 0., 1., 0., 1., 1., 1., 0., 0., 0., 1., 0., 0., 0., 1., 0.,\n",
       "       0., 0., 0., 0., 0., 0., 1., 0., 0., 1., 0., 0., 0., 1., 1., 0., 0.,\n",
       "       1., 0., 1., 0., 0., 1., 0., 0., 0., 0., 1., 0., 0., 0., 1., 0., 0.,\n",
       "       0., 0., 0., 1., 0., 0., 1., 0., 0., 1., 0., 1., 0., 0., 0., 1., 1.,\n",
       "       0., 1., 1., 1., 1., 0., 0., 0., 0., 0., 1., 0., 0., 0., 1., 1., 0.,\n",
       "       0., 0., 0., 0., 0., 0., 0., 0., 1., 0., 1., 1., 0., 0., 1., 0., 0.,\n",
       "       0., 0., 0., 1., 0., 0., 0., 0., 1., 0., 0., 0., 0., 0., 0., 0., 1.,\n",
       "       0., 0., 0., 0., 0., 0., 1., 1., 0., 1., 1., 0., 0., 0., 0., 0., 0.,\n",
       "       0., 0., 0., 0., 0., 1., 0., 1., 0., 0., 0., 0., 1., 0.])"
      ]
     },
     "execution_count": 170,
     "metadata": {},
     "output_type": "execute_result"
    }
   ],
   "source": [
    "t_y = np.array([0, 1])  # supp(Y)\n",
    "p_y = [0.7, 0.3]        # P(Y = t)\n",
    "F_y = np.cumsum(p_y)    # P(Y <= t) = F(Y)\n",
    "\n",
    "u = np.random.uniform(size = 1000,  \n",
    "                      low = 0, \n",
    "                      high = 1) \n",
    "y = np.zeros(1000)\n",
    "\n",
    "y[u <= F_y[0]] = t_y[0]\n",
    "y[(u >= F_y[0]) & (u <= F_y[1])] = t_y[1]\n",
    "y"
   ]
  },
  {
   "cell_type": "markdown",
   "metadata": {},
   "source": [
    "__2. Биномиального распределения с\n",
    "параметрами n = 5, p = 0.3__"
   ]
  },
  {
   "cell_type": "code",
   "execution_count": 171,
   "metadata": {},
   "outputs": [
    {
     "data": {
      "text/plain": [
       "array([3., 4., 5., 3., 1., 2., 2., 2., 1., 2., 2., 4., 1., 3., 3., 3., 2.,\n",
       "       3., 2., 5., 4., 2., 0., 0., 4., 2., 4., 2., 3., 2., 1., 2., 2., 3.,\n",
       "       3., 2., 4., 2., 2., 4., 2., 3., 3., 3., 4., 3., 3., 2., 3., 1., 3.,\n",
       "       1., 3., 3., 2., 3., 3., 2., 3., 3., 3., 4., 2., 0., 4., 2., 1., 3.,\n",
       "       1., 2., 3., 1., 2., 3., 4., 3., 1., 3., 3., 2., 2., 3., 3., 3., 2.,\n",
       "       4., 2., 2., 2., 3., 2., 4., 1., 4., 3., 5., 2., 4., 3., 2., 2., 3.,\n",
       "       4., 3., 2., 3., 4., 4., 3., 3., 3., 3., 1., 2., 4., 3., 4., 1., 4.,\n",
       "       1., 1., 4., 4., 4., 2., 2., 2., 3., 2., 3., 3., 2., 3., 2., 2., 4.,\n",
       "       2., 1., 4., 3., 1., 2., 2., 2., 2., 1., 2., 2., 3., 2., 1., 3., 3.,\n",
       "       1., 4., 1., 1., 4., 3., 1., 3., 3., 2., 4., 3., 2., 3., 2., 1., 2.,\n",
       "       2., 2., 1., 2., 3., 2., 3., 3., 4., 3., 2., 4., 3., 3., 4., 2., 2.,\n",
       "       3., 3., 3., 2., 1., 3., 0., 2., 1., 3., 3., 3., 2., 4., 2., 1., 3.,\n",
       "       2., 3., 3., 4., 2., 2., 4., 0., 1., 3., 2., 1., 3., 2., 1., 1., 3.,\n",
       "       1., 1., 4., 2., 1., 2., 4., 2., 2., 1., 3., 3., 3., 3., 2., 4., 1.,\n",
       "       4., 4., 2., 2., 2., 3., 2., 1., 2., 2., 3., 1., 2., 2., 1., 2., 2.,\n",
       "       1., 2., 1., 0., 3., 2., 1., 3., 2., 2., 5., 2., 3., 2., 4., 2., 3.,\n",
       "       4., 1., 3., 2., 2., 1., 3., 4., 1., 2., 2., 2., 2., 2., 4., 4., 3.,\n",
       "       1., 3., 4., 3., 0., 2., 1., 4., 1., 4., 4., 3., 2., 4., 4., 4., 4.,\n",
       "       3., 3., 4., 2., 1., 3., 3., 4., 2., 3., 1., 2., 2., 3., 3., 1., 1.,\n",
       "       3., 4., 3., 2., 1., 3., 2., 2., 3., 3., 3., 3., 1., 1., 2., 2., 3.,\n",
       "       3., 3., 3., 3., 3., 2., 2., 2., 2., 3., 3., 3., 1., 2., 3., 2., 3.,\n",
       "       3., 1., 4., 2., 3., 1., 3., 3., 2., 2., 1., 1., 3., 4., 1., 2., 3.,\n",
       "       3., 2., 2., 2., 4., 1., 5., 1., 2., 1., 2., 3., 3., 3., 5., 2., 4.,\n",
       "       3., 5., 3., 2., 3., 1., 3., 4., 3., 3., 3., 3., 4., 2., 4., 1., 4.,\n",
       "       4., 1., 2., 3., 1., 3., 3., 3., 4., 3., 3., 4., 1., 1., 3., 4., 2.,\n",
       "       2., 4., 1., 2., 2., 5., 4., 3., 1., 3., 3., 2., 1., 1., 1., 3., 2.,\n",
       "       3., 3., 4., 3., 2., 0., 2., 3., 3., 4., 1., 3., 3., 2., 1., 3., 0.,\n",
       "       4., 5., 3., 1., 4., 2., 3., 3., 3., 5., 1., 2., 2., 3., 4., 4., 3.,\n",
       "       1., 4., 2., 3., 3., 4., 4., 1., 3., 3., 3., 1., 2., 2., 2., 4., 2.,\n",
       "       2., 3., 2., 3., 4., 1., 2., 3., 2., 4., 2., 2., 3., 4., 0., 3., 4.,\n",
       "       3., 0., 4., 1., 4., 2., 2., 2., 4., 4., 3., 4., 4., 3., 2., 1., 4.,\n",
       "       4., 3., 5., 2., 2., 2., 3., 1., 2., 1., 1., 2., 4., 2., 2., 4., 2.,\n",
       "       1., 2., 3., 3., 1., 3., 0., 3., 2., 4., 2., 3., 2., 1., 2., 3., 2.,\n",
       "       4., 2., 1., 2., 3., 2., 2., 3., 0., 2., 4., 4., 3., 1., 3., 3., 2.,\n",
       "       4., 4., 4., 2., 0., 4., 2., 1., 2., 3., 3., 4., 1., 3., 3., 1., 3.,\n",
       "       4., 3., 1., 4., 1., 1., 3., 2., 3., 1., 2., 3., 2., 2., 3., 1., 2.,\n",
       "       4., 3., 4., 1., 2., 2., 2., 3., 3., 2., 3., 2., 3., 2., 1., 2., 4.,\n",
       "       4., 3., 2., 1., 1., 2., 3., 4., 3., 0., 3., 2., 1., 5., 1., 2., 3.,\n",
       "       1., 2., 1., 3., 4., 5., 4., 4., 2., 3., 3., 3., 3., 3., 3., 0., 3.,\n",
       "       2., 3., 2., 3., 2., 4., 2., 2., 0., 2., 3., 3., 1., 2., 3., 4., 4.,\n",
       "       2., 1., 3., 4., 5., 1., 2., 1., 2., 4., 3., 3., 1., 2., 3., 2., 3.,\n",
       "       2., 3., 4., 4., 3., 2., 0., 3., 2., 5., 3., 2., 4., 3., 3., 2., 2.,\n",
       "       1., 4., 3., 2., 3., 4., 5., 2., 3., 3., 1., 3., 3., 3., 3., 4., 2.,\n",
       "       2., 2., 4., 3., 2., 1., 1., 2., 1., 3., 2., 5., 1., 1., 1., 3., 3.,\n",
       "       2., 1., 3., 1., 1., 4., 1., 2., 3., 3., 3., 1., 1., 4., 2., 2., 2.,\n",
       "       3., 2., 2., 3., 3., 2., 2., 3., 1., 4., 3., 5., 3., 2., 4., 4., 4.,\n",
       "       4., 2., 2., 2., 2., 2., 4., 3., 3., 2., 2., 2., 3., 3., 3., 4., 2.,\n",
       "       1., 3., 4., 3., 2., 3., 3., 2., 3., 1., 1., 3., 1., 2., 5., 2., 2.,\n",
       "       3., 4., 3., 1., 3., 4., 5., 2., 3., 3., 1., 2., 2., 2., 3., 1., 3.,\n",
       "       3., 4., 2., 3., 2., 2., 3., 1., 3., 2., 3., 2., 3., 1., 2., 4., 3.,\n",
       "       2., 3., 2., 1., 3., 3., 2., 3., 1., 5., 3., 2., 5., 2., 3., 3., 4.,\n",
       "       4., 2., 2., 1., 2., 2., 3., 2., 4., 2., 4., 5., 3., 3., 0., 3., 2.,\n",
       "       4., 2., 3., 3., 1., 2., 1., 4., 2., 1., 3., 3., 1., 0., 1., 1., 2.,\n",
       "       1., 3., 1., 5., 2., 2., 2., 4., 3., 4., 0., 1., 3., 2., 4., 5., 1.,\n",
       "       1., 1., 3., 2., 3., 2., 1., 5., 5., 4., 4., 3., 1., 2., 4., 3., 2.,\n",
       "       0., 3., 3., 2., 3., 0., 3., 3., 1., 1., 1., 3., 4., 5., 3., 1., 2.,\n",
       "       3., 3., 2., 2., 5., 4., 1., 3., 3., 2., 2., 2., 3., 3., 0., 4., 3.,\n",
       "       1., 3., 2., 3., 2., 5., 4., 3., 2., 5., 4., 1., 3., 4., 4., 2., 1.,\n",
       "       3., 1., 2., 5., 1., 3., 1., 4., 2., 3., 1., 4., 3., 3.])"
      ]
     },
     "execution_count": 171,
     "metadata": {},
     "output_type": "execute_result"
    }
   ],
   "source": [
    "y = np.zeros(1000) \n",
    "n = 5\n",
    "p = 0.3\n",
    "\n",
    "for i in range(len(y)):\n",
    "    a = [np.random.random() for j in range(n)]\n",
    "    y[i] = len([l for l in a if l >= 0.5 ])\n",
    "    \n",
    "y"
   ]
  },
  {
   "cell_type": "markdown",
   "metadata": {},
   "source": [
    "__3. Экспоненциального распределения с параметром lambda = 5__"
   ]
  },
  {
   "cell_type": "code",
   "execution_count": 172,
   "metadata": {},
   "outputs": [
    {
     "data": {
      "text/plain": [
       "array([0.09385362, 0.60202429, 0.26334914, ..., 0.22444994, 0.13840846,\n",
       "       0.09882926])"
      ]
     },
     "execution_count": 172,
     "metadata": {},
     "output_type": "execute_result"
    }
   ],
   "source": [
    "exp = (-1 / 5) * np.log(1 - u_new)\n",
    "# выводили на семинаре БП\n",
    "# F(X) = 1/lambda * e^(-x * lambda)\n",
    "# F^(-1)(y) = -(1/lambda)ln(1-y)\n",
    "exp"
   ]
  },
  {
   "cell_type": "markdown",
   "metadata": {},
   "source": [
    "__4. Нормального распределения с\n",
    "параметрами mu = 5, sigma = 25 (используйте встроенную квантильную функцию)__"
   ]
  },
  {
   "cell_type": "code",
   "execution_count": 173,
   "metadata": {},
   "outputs": [],
   "source": [
    "norm_5_25 = norm.ppf(u_new, loc=5, scale=5)"
   ]
  },
  {
   "cell_type": "code",
   "execution_count": 174,
   "metadata": {},
   "outputs": [
    {
     "data": {
      "text/plain": [
       "array([ 3.4007381 , 13.25909664,  8.09427325, ...,  7.2612202 ,\n",
       "        4.99307224,  3.60221219])"
      ]
     },
     "execution_count": 174,
     "metadata": {},
     "output_type": "execute_result"
    }
   ],
   "source": [
    "norm_5_25"
   ]
  },
  {
   "cell_type": "markdown",
   "metadata": {},
   "source": [
    "__5. Геометрического распределения с\n",
    "вероятностью успеха 0.3__"
   ]
  },
  {
   "cell_type": "code",
   "execution_count": null,
   "metadata": {},
   "outputs": [],
   "source": []
  },
  {
   "cell_type": "markdown",
   "metadata": {},
   "source": [
    "__6. Распределения Пуассона с математическим\n",
    "ожидаем 5__"
   ]
  },
  {
   "cell_type": "code",
   "execution_count": null,
   "metadata": {},
   "outputs": [],
   "source": []
  },
  {
   "cell_type": "markdown",
   "metadata": {},
   "source": [
    "__7. Суммы распределений из предыдущих двух пунктов,\n",
    "предполагая независимость.__"
   ]
  },
  {
   "cell_type": "code",
   "execution_count": null,
   "metadata": {},
   "outputs": [],
   "source": []
  },
  {
   "cell_type": "markdown",
   "metadata": {},
   "source": [
    "# Выборочная функция распределения и гистограмма"
   ]
  },
  {
   "cell_type": "code",
   "execution_count": 175,
   "metadata": {},
   "outputs": [],
   "source": [
    "import sys\n",
    "import math\n",
    "import pandas as pd\n",
    "import numpy as np\n",
    "import scipy\n",
    "import matplotlib.pyplot as plt\n",
    "import seaborn\n",
    "from scipy.stats import t, chi2, f, norm, poisson, binom, uniform\n",
    "\n",
    "np.set_printoptions(suppress = True)                    # уберем scientific notation"
   ]
  },
  {
   "cell_type": "markdown",
   "metadata": {},
   "source": [
    "## Задания"
   ]
  },
  {
   "cell_type": "markdown",
   "metadata": {},
   "source": [
    "### Задание 1"
   ]
  },
  {
   "cell_type": "markdown",
   "metadata": {},
   "source": [
    "__Постройте графики гистограммы и выборочной\n",
    "функции распредления для распределений:__"
   ]
  },
  {
   "cell_type": "markdown",
   "metadata": {},
   "source": [
    "__1. Хи-Квадрат с 5-ю степенями свободы__"
   ]
  },
  {
   "cell_type": "code",
   "execution_count": 181,
   "metadata": {},
   "outputs": [],
   "source": [
    "np.random.seed(42)\n",
    "chi2_5 = chi2.rvs(size = 1000,\n",
    "             df = 5)"
   ]
  },
  {
   "cell_type": "code",
   "execution_count": 182,
   "metadata": {},
   "outputs": [
    {
     "data": {
      "image/png": "[encoded data removed]",
      "text/plain": [
       "<Figure size 432x288 with 1 Axes>"
      ]
     },
     "metadata": {
      "needs_background": "light"
     },
     "output_type": "display_data"
    }
   ],
   "source": [
    "x = np.sort(chi2_5)  # для удобства отсортируем реализации выборки\n",
    "\n",
    "plt.xlabel('x')                                         \n",
    "plt.ylabel('F(x)')                                      \n",
    "seaborn.ecdfplot(x,                                     \n",
    "                 label = \"ECDF\",\n",
    "                 color = \"palevioletred\")\n",
    "plt.legend();"
   ]
  },
  {
   "cell_type": "code",
   "execution_count": 183,
   "metadata": {},
   "outputs": [
    {
     "data": {
      "image/png": "[encoded data removed]",
      "text/plain": [
       "<Figure size 432x288 with 1 Axes>"
      ]
     },
     "metadata": {
      "needs_background": "light"
     },
     "output_type": "display_data"
    }
   ],
   "source": [
    "plt.xlabel('x')                   \n",
    "plt.ylabel('f(x)')                \n",
    "seaborn.histplot(x, stat = 'density',                   # гистограмма как график выборочной функции плотности\n",
    "                 color = \"palevioletred\",\n",
    "                 label = \"histogram\",\n",
    "                 bins = 20)                             # число столбиков в Гистограмме\n",
    "plt.legend();"
   ]
  },
  {
   "cell_type": "markdown",
   "metadata": {},
   "source": [
    "__2. Стьюдента с 10-ю степенями свободы__"
   ]
  },
  {
   "cell_type": "code",
   "execution_count": 186,
   "metadata": {},
   "outputs": [],
   "source": [
    "del t"
   ]
  },
  {
   "cell_type": "code",
   "execution_count": 190,
   "metadata": {},
   "outputs": [],
   "source": [
    "np.random.seed(42)\n",
    "t_10 = t.rvs(size=1000,\n",
    "          df=10)"
   ]
  },
  {
   "cell_type": "code",
   "execution_count": 191,
   "metadata": {},
   "outputs": [
    {
     "data": {
      "image/png": "[encoded data removed]",
      "text/plain": [
       "<Figure size 432x288 with 1 Axes>"
      ]
     },
     "metadata": {
      "needs_background": "light"
     },
     "output_type": "display_data"
    }
   ],
   "source": [
    "x = np.sort(t_10)  # для удобства отсортируем реализации выборки\n",
    "\n",
    "plt.xlabel('x')                                         \n",
    "plt.ylabel('F(x)')                                      \n",
    "seaborn.ecdfplot(x,                                     \n",
    "                 label = \"ECDF\",\n",
    "                 color = \"palevioletred\")\n",
    "plt.legend();"
   ]
  },
  {
   "cell_type": "code",
   "execution_count": 192,
   "metadata": {},
   "outputs": [
    {
     "data": {
      "image/png": "[encoded data removed]",
      "text/plain": [
       "<Figure size 432x288 with 1 Axes>"
      ]
     },
     "metadata": {
      "needs_background": "light"
     },
     "output_type": "display_data"
    }
   ],
   "source": [
    "plt.xlabel('x')                   \n",
    "plt.ylabel('f(x)')                \n",
    "seaborn.histplot(x, stat = 'density',                   # гистограмма как график выборочной функции плотности\n",
    "                 color = \"palevioletred\",\n",
    "                 label = \"histogram\",\n",
    "                 bins = 20)                             # число столбиков в Гистограмме\n",
    "plt.legend();"
   ]
  },
  {
   "cell_type": "markdown",
   "metadata": {},
   "source": [
    "__3.  Нормального с математическим ожиданием 10 и дисперсией 25__"
   ]
  },
  {
   "cell_type": "code",
   "execution_count": 193,
   "metadata": {},
   "outputs": [],
   "source": [
    "np.random.seed(42)\n",
    "norm_10_25 = norm.rvs(size=1000, \n",
    "                      loc=10, scale=5)"
   ]
  },
  {
   "cell_type": "code",
   "execution_count": 194,
   "metadata": {},
   "outputs": [
    {
     "data": {
      "image/png": "[encoded data removed]",
      "text/plain": [
       "<Figure size 432x288 with 1 Axes>"
      ]
     },
     "metadata": {
      "needs_background": "light"
     },
     "output_type": "display_data"
    }
   ],
   "source": [
    "x = np.sort(norm_10_25)  # для удобства отсортируем реализации выборки\n",
    "\n",
    "plt.xlabel('x')                                         \n",
    "plt.ylabel('F(x)')                                      \n",
    "seaborn.ecdfplot(x,                                     \n",
    "                 label = \"ECDF\",\n",
    "                 color = \"palevioletred\")\n",
    "plt.legend();"
   ]
  },
  {
   "cell_type": "code",
   "execution_count": 195,
   "metadata": {
    "scrolled": true
   },
   "outputs": [
    {
     "data": {
      "image/png": "[encoded data removed]",
      "text/plain": [
       "<Figure size 432x288 with 1 Axes>"
      ]
     },
     "metadata": {
      "needs_background": "light"
     },
     "output_type": "display_data"
    }
   ],
   "source": [
    "plt.xlabel('x')                   \n",
    "plt.ylabel('f(x)')                \n",
    "seaborn.histplot(x, stat = 'density',                   # гистограмма как график выборочной функции плотности\n",
    "                 color = \"palevioletred\",\n",
    "                 label = \"histogram\",\n",
    "                 bins = 20)                             # число столбиков в Гистограмме\n",
    "plt.legend();"
   ]
  },
  {
   "cell_type": "markdown",
   "metadata": {},
   "source": [
    "### Задание 2"
   ]
  },
  {
   "cell_type": "markdown",
   "metadata": {},
   "source": [
    "В каждом пункте предыдущего задания проверьте, как объем выборки влияет на то, насколько близки окажутся выборочные и истинные характеристики распределения. Сравните выборки объемом\n",
    "в 10, 100, 1000 и 10000 наблюдений. При увеличении объема выборки увеличивайте число столбиков в гистограмме."
   ]
  },
  {
   "cell_type": "markdown",
   "metadata": {},
   "source": [
    "__1. Хи-Квадрат с 5-ю степенями свободы__"
   ]
  },
  {
   "cell_type": "code",
   "execution_count": 196,
   "metadata": {},
   "outputs": [],
   "source": [
    "np.random.seed(42)\n",
    "\n",
    "chi2_5__10 = chi2.rvs(size = 10,\n",
    "                      df = 5)\n",
    "chi2_5__100 = chi2.rvs(size = 100,\n",
    "                      df = 5)\n",
    "chi2_5__1000 = chi2.rvs(size = 1000,\n",
    "                      df = 5)\n",
    "chi2_5__10000 = chi2.rvs(size = 10000,\n",
    "                      df = 5)\n",
    "\n",
    "F_x_5__10 = chi2.cdf(np.sort(chi2_5__10), df = 5)\n",
    "F_x_5__100 = chi2.cdf(np.sort(chi2_5__100), df = 5)\n",
    "F_x_5__1000 = chi2.cdf(np.sort(chi2_5__1000), df = 5)\n",
    "F_x_5__10000 = chi2.cdf(np.sort(chi2_5__10000), df = 5)\n",
    "\n",
    "f_x_5__10 = chi2.pdf(np.sort(chi2_5__10), df = 5)\n",
    "f_x_5__100 = chi2.pdf(np.sort(chi2_5__100), df = 5)\n",
    "f_x_5__1000 = chi2.pdf(np.sort(chi2_5__1000), df = 5)\n",
    "f_x_5__10000 = chi2.pdf(np.sort(chi2_5__10000), df = 5)"
   ]
  },
  {
   "cell_type": "code",
   "execution_count": 197,
   "metadata": {},
   "outputs": [
    {
     "data": {
      "image/png": "[encoded data removed]",
      "text/plain": [
       "<Figure size 936x936 with 8 Axes>"
      ]
     },
     "metadata": {
      "needs_background": "light"
     },
     "output_type": "display_data"
    }
   ],
   "source": [
    "fig, (sub_1, sub_2, sub_3, sub_4) = plt.subplots(4, 2, figsize=(13, 13))\n",
    "plt.subplots_adjust(wspace=0.3, hspace=0.4)\n",
    "fig.suptitle('Хи-Квадрат(5)')\n",
    "plt.xlabel('x')                                         \n",
    "                          \n",
    "# 10 наблюдений\n",
    "seaborn.ecdfplot(chi2_5__10,\n",
    "                 ax = sub_1[0],\n",
    "                 label = \"ECDF\",\n",
    "                 color = \"palevioletred\")\n",
    "\n",
    "sub_1[0].plot(np.sort(chi2_5__10), F_x_5__10, '--', markersize = 1,  \n",
    "              label = \"CDF\", color = \"limegreen\")\n",
    "\n",
    "sub_1[0].set_title('Функции распределения - 10')\n",
    "\n",
    "\n",
    "seaborn.histplot(chi2_5__10, stat = 'density',\n",
    "                 ax = sub_1[1],\n",
    "                 color = \"palevioletred\",\n",
    "                 label = \"histogram\",\n",
    "                 bins = 5) \n",
    "\n",
    "sub_1[1].plot(np.sort(chi2_5__10), f_x_5__10, '--', markersize = 20,\n",
    "              label = \"PDF\", color = \"limegreen\")\n",
    "\n",
    "sub_1[1].set_title('Функции плотности - 10')\n",
    "\n",
    "\n",
    "# 100 наблюдений\n",
    "seaborn.ecdfplot(chi2_5__100,\n",
    "                 ax = sub_2[0],\n",
    "                 label = \"ECDF\",\n",
    "                 color = \"palevioletred\")\n",
    "\n",
    "sub_2[0].plot(np.sort(chi2_5__100), F_x_5__100, '--', markersize = 1,  \n",
    "              label = \"CDF\", color = \"limegreen\")\n",
    "\n",
    "sub_2[0].set_title('Функции распределения - 100')\n",
    "\n",
    "\n",
    "seaborn.histplot(chi2_5__100, stat = 'density',\n",
    "                 ax = sub_2[1],\n",
    "                 color = \"palevioletred\",\n",
    "                 label = \"histogram\",\n",
    "                 bins = 8) \n",
    "\n",
    "sub_2[1].plot(np.sort(chi2_5__100), f_x_5__100, '--', markersize = 20,\n",
    "              label = \"PDF\", color = \"limegreen\")\n",
    "\n",
    "sub_2[1].set_title('Функции плотности - 100')\n",
    "\n",
    "\n",
    "\n",
    "# 1000 наблюдений\n",
    "seaborn.ecdfplot(chi2_5__1000,\n",
    "                 ax = sub_3[0],\n",
    "                 label = \"ECDF\",\n",
    "                 color = \"palevioletred\")\n",
    "\n",
    "sub_3[0].plot(np.sort(chi2_5__1000), F_x_5__1000, '--', markersize = 1,  \n",
    "              label = \"CDF\", color = \"limegreen\")\n",
    "\n",
    "sub_3[0].set_title('Функции распределения - 1000')\n",
    "\n",
    "\n",
    "seaborn.histplot(chi2_5__1000, stat = 'density',\n",
    "                 ax = sub_3[1],\n",
    "                 color = \"palevioletred\",\n",
    "                 label = \"histogram\",\n",
    "                 bins = 30) \n",
    "sub_3[1].set_title('Функции плотности - 1000')\n",
    "\n",
    "sub_3[1].plot(np.sort(chi2_5__1000), f_x_5__1000, '--', markersize = 20,\n",
    "              label = \"PDF\", color = \"limegreen\")\n",
    "\n",
    "# 10000 наблюдений\n",
    "seaborn.ecdfplot(chi2_5__10000,\n",
    "                 ax = sub_4[0],\n",
    "                 label = \"ECDF\",\n",
    "                 color = \"palevioletred\")\n",
    "\n",
    "sub_4[0].plot(np.sort(chi2_5__10000), F_x_5__10000, '--', markersize = 1,  \n",
    "              label = \"CDF\", color = \"limegreen\")\n",
    "\n",
    "sub_4[0].set_title('Функции распределения - 10000')\n",
    "\n",
    "\n",
    "seaborn.histplot(chi2_5__10000, stat = 'density',\n",
    "                 ax = sub_4[1],\n",
    "                 color = \"palevioletred\",\n",
    "                 label = \"histogram\",\n",
    "                 bins = 70) \n",
    "\n",
    "sub_4[1].plot(np.sort(chi2_5__10000), f_x_5__10000, '--', markersize = 20,\n",
    "              label = \"PDF\", color = \"limegreen\")\n",
    "\n",
    "sub_4[1].set_title('Функции плотности - 10000')\n",
    "\n",
    "sub_1[0].legend()\n",
    "sub_1[1].legend()\n",
    "sub_2[0].legend()\n",
    "sub_2[1].legend()\n",
    "sub_3[0].legend()\n",
    "sub_3[1].legend()\n",
    "sub_4[0].legend()\n",
    "sub_4[1].legend()\n",
    "\n",
    "plt.show();"
   ]
  },
  {
   "cell_type": "markdown",
   "metadata": {},
   "source": [
    "__2. Стьюдента с 10-ю степенями свободы__"
   ]
  },
  {
   "cell_type": "code",
   "execution_count": 198,
   "metadata": {},
   "outputs": [],
   "source": [
    "np.random.seed(11)\n",
    "\n",
    "t_10__10 = t.rvs(size = 10,\n",
    "                      df = 10)\n",
    "t_10__100 = t.rvs(size = 100,\n",
    "                      df = 10)\n",
    "t_10__1000 = t.rvs(size = 1000,\n",
    "                      df = 10)\n",
    "t_10__10000 = t.rvs(size = 10000,\n",
    "                      df = 10)\n",
    "\n",
    "F_x_10__10 = t.cdf(np.sort(t_10__10), df = 10)\n",
    "F_x_10__100 = t.cdf(np.sort(t_10__100), df = 10)\n",
    "F_x_10__1000 = t.cdf(np.sort(t_10__1000), df = 10)\n",
    "F_x_10__10000 = t.cdf(np.sort(t_10__10000), df = 10)\n",
    "\n",
    "f_x_10__10 = t.pdf(np.sort(t_10__10), df = 10)\n",
    "f_x_10__100 = t.pdf(np.sort(t_10__100), df = 10)\n",
    "f_x_10__1000 = t.pdf(np.sort(t_10__1000), df = 10)\n",
    "f_x_10__10000 = t.pdf(np.sort(t_10__10000), df = 10)"
   ]
  },
  {
   "cell_type": "code",
   "execution_count": 199,
   "metadata": {},
   "outputs": [
    {
     "data": {
      "image/png": "[encoded data removed]",
      "text/plain": [
       "<Figure size 936x936 with 8 Axes>"
      ]
     },
     "metadata": {
      "needs_background": "light"
     },
     "output_type": "display_data"
    }
   ],
   "source": [
    "fig, (sub_1, sub_2, sub_3, sub_4) = plt.subplots(4, 2, figsize=(13, 13))\n",
    "plt.subplots_adjust(wspace=0.3, hspace=0.4)\n",
    "fig.suptitle('Стьюдент(10)')\n",
    "plt.xlabel('x')                                         \n",
    "                          \n",
    "# 10 наблюдений\n",
    "seaborn.ecdfplot(t_10__10,\n",
    "                 ax = sub_1[0],\n",
    "                 label = \"ECDF\",\n",
    "                 color = \"palevioletred\")\n",
    "\n",
    "sub_1[0].plot(np.sort(t_10__10), F_x_10__10, '--', markersize = 1,  \n",
    "              label = \"CDF\", color = \"limegreen\")\n",
    "\n",
    "sub_1[0].set_title('Функции распределения - 10')\n",
    "\n",
    "\n",
    "seaborn.histplot(t_10__10, stat = 'density',\n",
    "                 ax = sub_1[1],\n",
    "                 color = \"palevioletred\",\n",
    "                 label = \"histogram\",\n",
    "                 bins = 3) \n",
    "\n",
    "sub_1[1].plot(np.sort(t_10__10), f_x_10__10, '--', markersize = 20,\n",
    "              label = \"PDF\", color = \"limegreen\")\n",
    "\n",
    "sub_1[1].set_title('Функции плотности - 10')\n",
    "\n",
    "\n",
    "# 100 наблюдений\n",
    "seaborn.ecdfplot(t_10__100,\n",
    "                 ax = sub_2[0],\n",
    "                 label = \"ECDF\",\n",
    "                 color = \"palevioletred\")\n",
    "\n",
    "sub_2[0].plot(np.sort(t_10__100), F_x_10__100, '--', markersize = 1,  \n",
    "              label = \"CDF\", color = \"limegreen\")\n",
    "\n",
    "sub_2[0].set_title('Функции распределения - 100')\n",
    "\n",
    "\n",
    "seaborn.histplot(t_10__100, stat = 'density',\n",
    "                 ax = sub_2[1],\n",
    "                 color = \"palevioletred\",\n",
    "                 label = \"histogram\",\n",
    "                 bins = 8) \n",
    "\n",
    "sub_2[1].plot(np.sort(t_10__100), f_x_10__100, '--', markersize = 20,\n",
    "              label = \"PDF\", color = \"limegreen\")\n",
    "\n",
    "sub_2[1].set_title('Функции плотности - 100')\n",
    "\n",
    "\n",
    "\n",
    "# 1000 наблюдений\n",
    "seaborn.ecdfplot(t_10__1000,\n",
    "                 ax = sub_3[0],\n",
    "                 label = \"ECDF\",\n",
    "                 color = \"palevioletred\")\n",
    "\n",
    "sub_3[0].plot(np.sort(t_10__1000), F_x_10__1000, '--', markersize = 1,  \n",
    "              label = \"CDF\", color = \"limegreen\")\n",
    "\n",
    "sub_3[0].set_title('Функции распределения - 1000')\n",
    "\n",
    "\n",
    "seaborn.histplot(t_10__1000, stat = 'density',\n",
    "                 ax = sub_3[1],\n",
    "                 color = \"palevioletred\",\n",
    "                 label = \"histogram\",\n",
    "                 bins = 30) \n",
    "sub_3[1].set_title('Функции плотности - 1000')\n",
    "\n",
    "sub_3[1].plot(np.sort(t_10__1000), f_x_10__1000, '--', markersize = 20,\n",
    "              label = \"PDF\", color = \"limegreen\")\n",
    "\n",
    "# 10000 наблюдений\n",
    "seaborn.ecdfplot(t_10__10000,\n",
    "                 ax = sub_4[0],\n",
    "                 label = \"ECDF\",\n",
    "                 color = \"palevioletred\")\n",
    "\n",
    "sub_4[0].plot(np.sort(t_10__10000), F_x_10__10000, '--', markersize = 1,  \n",
    "              label = \"CDF\", color = \"limegreen\")\n",
    "\n",
    "sub_4[0].set_title('Функции распределения - 10000')\n",
    "\n",
    "\n",
    "seaborn.histplot(t_10__10000, stat = 'density',\n",
    "                 ax = sub_4[1],\n",
    "                 color = \"palevioletred\",\n",
    "                 label = \"histogram\",\n",
    "                 bins = 70) \n",
    "\n",
    "sub_4[1].plot(np.sort(t_10__10000), f_x_10__10000, '--', markersize = 20,\n",
    "              label = \"PDF\", color = \"limegreen\")\n",
    "\n",
    "sub_4[1].set_title('Функции плотности - 10000')\n",
    "\n",
    "sub_1[0].legend()\n",
    "sub_1[1].legend()\n",
    "sub_2[0].legend()\n",
    "sub_2[1].legend()\n",
    "sub_3[0].legend()\n",
    "sub_3[1].legend()\n",
    "sub_4[0].legend()\n",
    "sub_4[1].legend()\n",
    "\n",
    "plt.show();"
   ]
  },
  {
   "cell_type": "markdown",
   "metadata": {},
   "source": [
    "__3. Нормального с математическим ожиданием 10\n",
    "и дисперсией 25__"
   ]
  },
  {
   "cell_type": "code",
   "execution_count": 200,
   "metadata": {},
   "outputs": [],
   "source": [
    "np.random.seed(11)\n",
    "\n",
    "norm_10_25__10 = norm.rvs(size = 10,\n",
    "                      loc=10, scale=5)\n",
    "norm_10_25__100 = norm.rvs(size = 100,\n",
    "                      loc=10, scale=5)\n",
    "norm_10_25__1000 = norm.rvs(size = 1000,\n",
    "                      loc=10, scale=5)\n",
    "norm_10_25__10000 = norm.rvs(size = 10000,\n",
    "                      loc=10, scale=5)\n",
    "\n",
    "F_x_10_25__10 = norm.cdf(np.sort(norm_10_25__10), loc=10, scale=5)\n",
    "F_x_10_25__100 = norm.cdf(np.sort(norm_10_25__100), loc=10, scale=5)\n",
    "F_x_10_25__1000 = norm.cdf(np.sort(norm_10_25__1000), loc=10, scale=5)\n",
    "F_x_10_25__10000 = norm.cdf(np.sort(norm_10_25__10000), loc=10, scale=5)\n",
    "\n",
    "f_x_10_25__10 = norm.pdf(np.sort(norm_10_25__10), loc=10, scale=5)\n",
    "f_x_10_25__100 = norm.pdf(np.sort(norm_10_25__100), loc=10, scale=5)\n",
    "f_x_10_25__1000 = norm.pdf(np.sort(norm_10_25__1000), loc=10, scale=5)\n",
    "f_x_10_25__10000 = norm.pdf(np.sort(norm_10_25__10000), loc=10, scale=5)"
   ]
  },
  {
   "cell_type": "code",
   "execution_count": 201,
   "metadata": {},
   "outputs": [
    {
     "data": {
      "image/png": "[encoded data removed]",
      "text/plain": [
       "<Figure size 936x936 with 8 Axes>"
      ]
     },
     "metadata": {
      "needs_background": "light"
     },
     "output_type": "display_data"
    }
   ],
   "source": [
    "fig, (sub_1, sub_2, sub_3, sub_4) = plt.subplots(4, 2, figsize=(13, 13))\n",
    "plt.subplots_adjust(wspace=0.3, hspace=0.4)\n",
    "fig.suptitle('Нормальное распределение (10, 25)')\n",
    "plt.xlabel('x')                                         \n",
    "                          \n",
    "# 10 наблюдений\n",
    "seaborn.ecdfplot(norm_10_25__10,\n",
    "                 ax = sub_1[0],\n",
    "                 label = \"ECDF\",\n",
    "                 color = \"palevioletred\")\n",
    "\n",
    "sub_1[0].plot(np.sort(norm_10_25__10), F_x_10_25__10, '--', markersize = 1,  \n",
    "              label = \"CDF\", color = \"limegreen\")\n",
    "\n",
    "sub_1[0].set_title('Функции распределения - 10')\n",
    "\n",
    "\n",
    "seaborn.histplot(norm_10_25__10, stat = 'density',\n",
    "                 ax = sub_1[1],\n",
    "                 color = \"palevioletred\",\n",
    "                 label = \"histogram\",\n",
    "                 bins = 4) \n",
    "\n",
    "sub_1[1].plot(np.sort(norm_10_25__10), f_x_10_25__10, '--', markersize = 20,\n",
    "              label = \"PDF\", color = \"limegreen\")\n",
    "\n",
    "sub_1[1].set_title('Функции плотности - 10')\n",
    "\n",
    "\n",
    "# 100 наблюдений\n",
    "seaborn.ecdfplot(norm_10_25__100,\n",
    "                 ax = sub_2[0],\n",
    "                 label = \"ECDF\",\n",
    "                 color = \"palevioletred\")\n",
    "\n",
    "sub_2[0].plot(np.sort(norm_10_25__100), F_x_10_25__100, '--', markersize = 1,  \n",
    "              label = \"CDF\", color = \"limegreen\")\n",
    "\n",
    "sub_2[0].set_title('Функции распределения - 100')\n",
    "\n",
    "\n",
    "seaborn.histplot(norm_10_25__100, stat = 'density',\n",
    "                 ax = sub_2[1],\n",
    "                 color = \"palevioletred\",\n",
    "                 label = \"histogram\",\n",
    "                 bins = 8) \n",
    "\n",
    "sub_2[1].plot(np.sort(norm_10_25__100), f_x_10_25__100, '--', markersize = 20,\n",
    "              label = \"PDF\", color = \"limegreen\")\n",
    "\n",
    "sub_2[1].set_title('Функции плотности - 100')\n",
    "\n",
    "\n",
    "\n",
    "# 1000 наблюдений\n",
    "seaborn.ecdfplot(norm_10_25__1000,\n",
    "                 ax = sub_3[0],\n",
    "                 label = \"ECDF\",\n",
    "                 color = \"palevioletred\")\n",
    "\n",
    "sub_3[0].plot(np.sort(norm_10_25__1000), F_x_10_25__1000, '--', markersize = 1,  \n",
    "              label = \"CDF\", color = \"limegreen\")\n",
    "\n",
    "sub_3[0].set_title('Функции распределения - 1000')\n",
    "\n",
    "\n",
    "seaborn.histplot(norm_10_25__1000, stat = 'density',\n",
    "                 ax = sub_3[1],\n",
    "                 color = \"palevioletred\",\n",
    "                 label = \"histogram\",\n",
    "                 bins = 30) \n",
    "sub_3[1].set_title('Функции плотности - 1000')\n",
    "\n",
    "sub_3[1].plot(np.sort(norm_10_25__1000), f_x_10_25__1000, '--', markersize = 20,\n",
    "              label = \"PDF\", color = \"limegreen\")\n",
    "\n",
    "# 10000 наблюдений\n",
    "seaborn.ecdfplot(norm_10_25__10000,\n",
    "                 ax = sub_4[0],\n",
    "                 label = \"ECDF\",\n",
    "                 color = \"palevioletred\")\n",
    "\n",
    "sub_4[0].plot(np.sort(norm_10_25__10000), F_x_10_25__10000, '--', markersize = 1,  \n",
    "              label = \"CDF\", color = \"limegreen\")\n",
    "\n",
    "sub_4[0].set_title('Функции распределения - 10000')\n",
    "\n",
    "\n",
    "seaborn.histplot(norm_10_25__10000, stat = 'density',\n",
    "                 ax = sub_4[1],\n",
    "                 color = \"palevioletred\",\n",
    "                 label = \"histogram\",\n",
    "                 bins = 70) \n",
    "\n",
    "sub_4[1].plot(np.sort(norm_10_25__10000), f_x_10_25__10000, '--', markersize = 20,\n",
    "              label = \"PDF\", color = \"limegreen\")\n",
    "\n",
    "sub_4[1].set_title('Функции плотности - 10000')\n",
    "\n",
    "sub_1[0].legend()\n",
    "sub_1[1].legend()\n",
    "sub_2[0].legend()\n",
    "sub_2[1].legend()\n",
    "sub_3[0].legend()\n",
    "sub_3[1].legend()\n",
    "sub_4[0].legend()\n",
    "sub_4[1].legend()\n",
    "\n",
    "plt.show();"
   ]
  },
  {
   "cell_type": "markdown",
   "metadata": {},
   "source": [
    "### Задание 3"
   ]
  },
  {
   "cell_type": "markdown",
   "metadata": {},
   "source": [
    "Самостоятельно запрограммируйте функции, позволяющие рассчитывать значение выборочной функции распределения для каждого:"
   ]
  },
  {
   "cell_type": "markdown",
   "metadata": {},
   "source": [
    "__1. Наблюдения в выборке__"
   ]
  },
  {
   "cell_type": "code",
   "execution_count": 202,
   "metadata": {},
   "outputs": [],
   "source": [
    "def ecdf_all(x):\n",
    "    answer = []\n",
    "    for elem in x:\n",
    "        ecdf = np.mean(x <= elem)\n",
    "        print(f'в точке {elem} значение выборочной функции распределения равно {ecdf}')\n",
    "        answer.append(ecdf)\n",
    "    return answer"
   ]
  },
  {
   "cell_type": "code",
   "execution_count": 203,
   "metadata": {},
   "outputs": [
    {
     "name": "stdout",
     "output_type": "stream",
     "text": [
      "в точке 11.213277337737855 значение выборочной функции распределения равно 1.0\n",
      "в точке 4.445458938524792 значение выборочной функции распределения равно 0.5\n",
      "в точке 0.819765827767489 значение выборочной функции распределения равно 0.1\n",
      "в точке 7.666544799624183 значение выборочной функции распределения равно 0.8\n",
      "в точке 4.636151038105539 значение выборочной функции распределения равно 0.6\n",
      "в точке 5.7131647585807075 значение выборочной функции распределения равно 0.7\n",
      "в точке 2.284176920887642 значение выборочной функции распределения равно 0.2\n",
      "в точке 4.068336080416139 значение выборочной функции распределения равно 0.4\n",
      "в точке 10.66393270848228 значение выборочной функции распределения равно 0.9\n",
      "в точке 3.1758235886948882 значение выборочной функции распределения равно 0.3\n"
     ]
    },
    {
     "data": {
      "text/plain": [
       "[1.0, 0.5, 0.1, 0.8, 0.6, 0.7, 0.2, 0.4, 0.9, 0.3]"
      ]
     },
     "execution_count": 203,
     "metadata": {},
     "output_type": "execute_result"
    }
   ],
   "source": [
    "ecdf_all(chi2.rvs(size=10, df=5))"
   ]
  },
  {
   "cell_type": "markdown",
   "metadata": {},
   "source": [
    "__2. Значения в произвольном векторе__"
   ]
  },
  {
   "cell_type": "code",
   "execution_count": 204,
   "metadata": {},
   "outputs": [],
   "source": [
    "def ecdf_vector(x, t):  # x - выборка, t - вектор\n",
    "    answer = []\n",
    "    for elem in t:\n",
    "        ecdf = np.mean(x <= elem)\n",
    "        print(f'в точке {elem} значение выборочной функции распределения равно {ecdf}')\n",
    "        answer.append(ecdf)\n",
    "    return answer"
   ]
  },
  {
   "cell_type": "code",
   "execution_count": 205,
   "metadata": {},
   "outputs": [
    {
     "name": "stdout",
     "output_type": "stream",
     "text": [
      "в точке 5 значение выборочной функции распределения равно 0.5\n",
      "в точке 4 значение выборочной функции распределения равно 0.4\n",
      "в точке 6 значение выборочной функции распределения равно 0.7\n",
      "в точке 3 значение выборочной функции распределения равно 0.2\n",
      "в точке 2 значение выборочной функции распределения равно 0.2\n",
      "в точке 10 значение выборочной функции распределения равно 0.9\n",
      "в точке 0 значение выборочной функции распределения равно 0.0\n"
     ]
    },
    {
     "data": {
      "text/plain": [
       "[0.5, 0.4, 0.7, 0.2, 0.2, 0.9, 0.0]"
      ]
     },
     "execution_count": 205,
     "metadata": {},
     "output_type": "execute_result"
    }
   ],
   "source": [
    "ecdf_vector(chi2.rvs(size=10, df=5), [5, 4, 6, 3, 2, 10, 0])"
   ]
  },
  {
   "cell_type": "markdown",
   "metadata": {},
   "source": [
    "### Задание 4"
   ]
  },
  {
   "cell_type": "markdown",
   "metadata": {},
   "source": [
    "Самостоятельно запрограммируйте функции,\n",
    "позволяющие рассчитывать значение гистограммы\n",
    "для каждого:"
   ]
  },
  {
   "cell_type": "markdown",
   "metadata": {},
   "source": [
    "__1. Наблюдения в выборке__"
   ]
  },
  {
   "cell_type": "code",
   "execution_count": 206,
   "metadata": {},
   "outputs": [],
   "source": [
    "def hist_value(x, bin_n):  # x - выборка, n - число столбиков в гистограмме\n",
    "    answer = []\n",
    "    for elem in x:\n",
    "        t = elem\n",
    "        t_adj = t - min(x)  # точка, скорректированная на минимальное значение в выборке\n",
    "        x_adj = x - min(x)  # выборка, скорректированная на минимальное значение\n",
    "        bin_w = (max(x) - min(x)) / bin_n  # ширина столбика\n",
    "        t_w_ratio = (t_adj) / bin_w  # отношение скорректированной точки к ширине столбика\n",
    "        bin_t = math.floor(t_w_ratio) + 1  # номер столбика, в котором расположена точка\n",
    "        ans = len(x[(x_adj >= ((bin_t - 1) * bin_w)) & (x_adj < (bin_t * bin_w))]) / (n * bin_w)  # значение Гистограммы в точке\n",
    "        print(f'в точке {elem} значение Гистограммы равно {ans}')\n",
    "        answer.append(ans)\n",
    "    return answer"
   ]
  },
  {
   "cell_type": "code",
   "execution_count": 207,
   "metadata": {},
   "outputs": [
    {
     "name": "stdout",
     "output_type": "stream",
     "text": [
      "в точке 4.2824044420019955 значение Гистограммы равно 0.013667467614968211\n",
      "в точке 5.558801710670115 значение Гистограммы равно 0.013667467614968211\n",
      "в точке 3.8302872449082535 значение Гистограммы равно 0.013667467614968211\n",
      "в точке 8.294488105999045 значение Гистограммы равно 0.013667467614968211\n",
      "в точке 7.119507549517428 значение Гистограммы равно 0.013667467614968211\n",
      "в точке 2.240290078218421 значение Гистограммы равно 0.027334935229936422\n",
      "в точке 2.086235773723351 значение Гистограммы равно 0.027334935229936422\n",
      "в точке 5.014399006345402 значение Гистограммы равно 0.013667467614968211\n",
      "в точке 0.9778437343319112 значение Гистограммы равно 0.013667467614968211\n",
      "в точке 6.252978518865255 значение Гистограммы равно 0.013667467614968211\n"
     ]
    },
    {
     "data": {
      "text/plain": [
       "[0.013667467614968211,\n",
       " 0.013667467614968211,\n",
       " 0.013667467614968211,\n",
       " 0.013667467614968211,\n",
       " 0.013667467614968211,\n",
       " 0.027334935229936422,\n",
       " 0.027334935229936422,\n",
       " 0.013667467614968211,\n",
       " 0.013667467614968211,\n",
       " 0.013667467614968211]"
      ]
     },
     "execution_count": 207,
     "metadata": {},
     "output_type": "execute_result"
    }
   ],
   "source": [
    "hist_value(chi2.rvs(size = 10, df = 5), bin_n = 10)"
   ]
  },
  {
   "cell_type": "markdown",
   "metadata": {},
   "source": [
    "__2. Значения в произвольном векторе__"
   ]
  },
  {
   "cell_type": "code",
   "execution_count": 208,
   "metadata": {},
   "outputs": [],
   "source": [
    "def hist_value_vector(x, bin_n, v):  # x - выборка, bin_n - число столбиков в гистограмме, v - вектор\n",
    "    answer = []\n",
    "    for elem in v:\n",
    "        t = elem\n",
    "        t_adj = t - min(x)  # точка, скорректированная на минимальное значение в выборке\n",
    "        x_adj = x - min(x)  # выборка, скорректированная на минимальное значение\n",
    "        bin_w = (max(x) - min(x)) / bin_n  # ширина столбика\n",
    "        t_w_ratio = (t_adj) / bin_w  # отношение скорректированной точки к ширине столбика\n",
    "        bin_t = math.floor(t_w_ratio) + 1  # номер столбика, в котором расположена точка\n",
    "        ans = len(x[(x_adj >= ((bin_t - 1) * bin_w)) & (x_adj < (bin_t * bin_w))]) / (n * bin_w)  # значение Гистограммы в точке\n",
    "        print(f'в точке {elem} значение Гистограммы равно {ans}')\n",
    "        answer.append(ans)\n",
    "    return answer"
   ]
  },
  {
   "cell_type": "code",
   "execution_count": 209,
   "metadata": {},
   "outputs": [
    {
     "name": "stdout",
     "output_type": "stream",
     "text": [
      "в точке 5 значение Гистограммы равно 0.0\n",
      "в точке 4 значение Гистограммы равно 0.010179348598279408\n",
      "в точке 6 значение Гистограммы равно 0.010179348598279408\n",
      "в точке 3 значение Гистограммы равно 0.04071739439311763\n",
      "в точке 2 значение Гистограммы равно 0.010179348598279408\n",
      "в точке 10 значение Гистограммы равно 0.0\n",
      "в точке 0 значение Гистограммы равно 0.0\n"
     ]
    },
    {
     "data": {
      "text/plain": [
       "[0.0,\n",
       " 0.010179348598279408,\n",
       " 0.010179348598279408,\n",
       " 0.04071739439311763,\n",
       " 0.010179348598279408,\n",
       " 0.0,\n",
       " 0.0]"
      ]
     },
     "execution_count": 209,
     "metadata": {},
     "output_type": "execute_result"
    }
   ],
   "source": [
    "hist_value_vector(chi2.rvs(size=10, df=5), 10, [5, 4, 6, 3, 2, 10, 0])"
   ]
  },
  {
   "cell_type": "markdown",
   "metadata": {},
   "source": [
    "### Задание 5"
   ]
  },
  {
   "cell_type": "markdown",
   "metadata": {},
   "source": [
    "Самостоятельно запрограммируйте функции,\n",
    "позволяющие по выборке строить график:"
   ]
  },
  {
   "cell_type": "markdown",
   "metadata": {},
   "source": [
    "__1. Выборочной функции распределения__"
   ]
  },
  {
   "cell_type": "code",
   "execution_count": 210,
   "metadata": {},
   "outputs": [],
   "source": [
    "def ecdf(x):\n",
    "    plt.xlabel('x')                                         \n",
    "    plt.ylabel('F(x)')                                      \n",
    "    seaborn.ecdfplot(x,                                     \n",
    "                     label = \"ECDF\",\n",
    "                     color = \"palevioletred\")\n",
    "    plt.legend();"
   ]
  },
  {
   "cell_type": "code",
   "execution_count": 211,
   "metadata": {},
   "outputs": [
    {
     "data": {
      "image/png": "[encoded data removed]",
      "text/plain": [
       "<Figure size 432x288 with 1 Axes>"
      ]
     },
     "metadata": {
      "needs_background": "light"
     },
     "output_type": "display_data"
    }
   ],
   "source": [
    "x = chi2.rvs(size = 1000, df = 5)\n",
    "ecdf(x)"
   ]
  },
  {
   "cell_type": "markdown",
   "metadata": {},
   "source": [
    "__2. Гистограммы с произвольным\n",
    "числом столбиков__"
   ]
  },
  {
   "cell_type": "code",
   "execution_count": 212,
   "metadata": {},
   "outputs": [],
   "source": [
    "def hist(x, bins):  # x - выборка, bins - число столбиков\n",
    "    plt.xlabel('x')                   \n",
    "    plt.ylabel('f(x)')                \n",
    "    seaborn.histplot(x, stat = 'density',                   \n",
    "                     color = \"palevioletred\",\n",
    "                     label = \"histogram\",\n",
    "                     bins = bins)                            \n",
    "    plt.legend();"
   ]
  },
  {
   "cell_type": "code",
   "execution_count": 213,
   "metadata": {},
   "outputs": [
    {
     "data": {
      "image/png": "[encoded data removed]",
      "text/plain": [
       "<Figure size 432x288 with 1 Axes>"
      ]
     },
     "metadata": {
      "needs_background": "light"
     },
     "output_type": "display_data"
    }
   ],
   "source": [
    "x = chi2.rvs(size = 1000, df = 5)\n",
    "hist(x, 20)"
   ]
  },
  {
   "cell_type": "markdown",
   "metadata": {},
   "source": [
    "### Задание 6"
   ]
  },
  {
   "cell_type": "markdown",
   "metadata": {},
   "source": [
    "Используя ЗБЧ и несколько выборок из Хи-Квадрат\n",
    "распределения приблизительно рассчитайте:"
   ]
  },
  {
   "cell_type": "markdown",
   "metadata": {},
   "source": [
    "__1.  Математическое ожидание выборочной функции\n",
    "распределения в точке 5__"
   ]
  },
  {
   "cell_type": "code",
   "execution_count": 214,
   "metadata": {},
   "outputs": [
    {
     "data": {
      "text/plain": [
       "0.5840219999999999"
      ]
     },
     "execution_count": 214,
     "metadata": {},
     "output_type": "execute_result"
    }
   ],
   "source": [
    "ecdf_5_all = []\n",
    "\n",
    "for i in range(1000):\n",
    "    x = chi2.rvs(size = 1000, df = 5)\n",
    "    ecdf_5 = np.mean(x <= 5)\n",
    "    ecdf_5_all.append(ecdf_5)\n",
    "    \n",
    "np.mean(ecdf_5_all)"
   ]
  },
  {
   "cell_type": "markdown",
   "metadata": {},
   "source": [
    "__2. Дисперсию выборочной функции распределения в точке 5__"
   ]
  },
  {
   "cell_type": "code",
   "execution_count": 215,
   "metadata": {},
   "outputs": [
    {
     "data": {
      "text/plain": [
       "0.0002549961189999999"
      ]
     },
     "execution_count": 215,
     "metadata": {},
     "output_type": "execute_result"
    }
   ],
   "source": [
    "ecdf_5_all = []\n",
    "\n",
    "for i in range(1000):\n",
    "    x = chi2.rvs(size = 1000, df = 5)\n",
    "    ecdf_5 = np.mean(x <= 5)\n",
    "    ecdf_5_all.append(ecdf_5)\n",
    "    \n",
    "np.var(ecdf_5_all)"
   ]
  },
  {
   "cell_type": "markdown",
   "metadata": {},
   "source": [
    "# Выборочные характеристики"
   ]
  },
  {
   "cell_type": "code",
   "execution_count": 216,
   "metadata": {},
   "outputs": [],
   "source": [
    "import sys\n",
    "import math\n",
    "import pandas as pd\n",
    "import numpy as np\n",
    "import scipy\n",
    "import matplotlib.pyplot as plt\n",
    "import seaborn\n",
    "from scipy.stats import t, chi2, f, norm, poisson, binom, uniform, multivariate_normal\n",
    "\n",
    "np.set_printoptions(suppress = True)                    # уберем scientific notation"
   ]
  },
  {
   "cell_type": "markdown",
   "metadata": {},
   "source": [
    "## Задания "
   ]
  },
  {
   "cell_type": "markdown",
   "metadata": {},
   "source": [
    "### Задание 1"
   ]
  },
  {
   "cell_type": "markdown",
   "metadata": {},
   "source": [
    "Визуализируйте для выборки объема 5000 из распределения\n",
    "Стьюдента с 10-ю степенями свободы, при помощи Гистограммы,\n",
    "распределение:"
   ]
  },
  {
   "cell_type": "markdown",
   "metadata": {},
   "source": [
    "__1. Второго начального выборочного момента__"
   ]
  },
  {
   "cell_type": "code",
   "execution_count": 224,
   "metadata": {},
   "outputs": [
    {
     "data": {
      "image/png": "[encoded data removed]",
      "text/plain": [
       "<Figure size 432x288 with 1 Axes>"
      ]
     },
     "metadata": {
      "needs_background": "light"
     },
     "output_type": "display_data"
    }
   ],
   "source": [
    "# Сперва получим выборку из выборочных вторых начальных моментов, используя для этого несколько независимых выборок равного объема \n",
    "# из одного и того же распределения\n",
    "m = 1000  # количество независимых выборок равного объема\n",
    "                                            \n",
    "x_moments = np.empty(m)  # вектор, который будет содержать выборку из реализаций выборочного второго начального момента\n",
    "for i in range(0, m):\n",
    "    x_new = t.rvs(size = 5000, df = 10)\n",
    "    x_moments[i] = np.mean(x_new ** 2)\n",
    "x_moments = np.sort(x_moments)                                \n",
    "\n",
    "plt.xlabel('x')                                         # название нижней оси графика\n",
    "plt.ylabel('f(x)')                                      # название верхней оси графика\n",
    "\n",
    "seaborn.histplot(x_moments, stat = 'density',           # гистограмма как график выборочной функции плотности\n",
    "                 color = \"palevioletred\",\n",
    "                 label = \"histogram\",\n",
    "                 bins = 15)                             # число столбиков в Гистограмме\n",
    "plt.legend();"
   ]
  },
  {
   "cell_type": "markdown",
   "metadata": {},
   "source": [
    "__2. Выборочной дисперсии__"
   ]
  },
  {
   "cell_type": "code",
   "execution_count": 225,
   "metadata": {},
   "outputs": [
    {
     "data": {
      "image/png": "[encoded data removed]",
      "text/plain": [
       "<Figure size 432x288 with 1 Axes>"
      ]
     },
     "metadata": {
      "needs_background": "light"
     },
     "output_type": "display_data"
    }
   ],
   "source": [
    "m = 1000  \n",
    "                                            \n",
    "x_vars = np.empty(m)  \n",
    "for i in range(0, m):\n",
    "    x_new = t.rvs(size = 5000, df = 10)\n",
    "    x_vars[i] = np.var(x_new)\n",
    "x_vars = np.sort(x_vars)                                \n",
    "\n",
    "plt.xlabel('x')                                         \n",
    "plt.ylabel('f(x)')                                     \n",
    "\n",
    "seaborn.histplot(x_vars, stat = 'density',             \n",
    "                 color = \"palevioletred\",\n",
    "                 label = \"histogram\",\n",
    "                 bins = 15)                             \n",
    "plt.legend();"
   ]
  },
  {
   "cell_type": "markdown",
   "metadata": {},
   "source": [
    "__3. Выборочной медианы__"
   ]
  },
  {
   "cell_type": "code",
   "execution_count": 226,
   "metadata": {},
   "outputs": [
    {
     "data": {
      "image/png": "[encoded data removed]",
      "text/plain": [
       "<Figure size 432x288 with 1 Axes>"
      ]
     },
     "metadata": {
      "needs_background": "light"
     },
     "output_type": "display_data"
    }
   ],
   "source": [
    "m = 1000  \n",
    "                                            \n",
    "x_medians = np.empty(m)  \n",
    "for i in range(0, m):\n",
    "    x_new = t.rvs(size = 5000, df = 10)\n",
    "    x_medians[i] = np.median(x_new)  \n",
    "x_medians = np.sort(x_medians)                                \n",
    "\n",
    "plt.xlabel('x')                                         \n",
    "plt.ylabel('f(x)')                                     \n",
    "\n",
    "seaborn.histplot(x_medians, stat = 'density',             \n",
    "                 color = \"palevioletred\",\n",
    "                 label = \"histogram\",\n",
    "                 bins = 15)                             \n",
    "plt.legend();"
   ]
  },
  {
   "cell_type": "markdown",
   "metadata": {},
   "source": [
    "__4. Третьей порядковой статистики, то есть третьего элемента вариационного ряда__"
   ]
  },
  {
   "cell_type": "code",
   "execution_count": 227,
   "metadata": {},
   "outputs": [
    {
     "data": {
      "image/png": "[encoded data removed]",
      "text/plain": [
       "<Figure size 432x288 with 1 Axes>"
      ]
     },
     "metadata": {
      "needs_background": "light"
     },
     "output_type": "display_data"
    }
   ],
   "source": [
    "m = 1000  \n",
    "                                            \n",
    "x_third = np.empty(m)  \n",
    "for i in range(0, m):\n",
    "    x_new = t.rvs(size = 5000, df = 10)\n",
    "    x_third[i] = np.sort(x_new)[2]  # Выбираем из вариационного ряда нужный элемент\n",
    "x_third = np.sort(x_third)                                \n",
    "\n",
    "plt.xlabel('x')                                         \n",
    "plt.ylabel('f(x)')                                     \n",
    "\n",
    "seaborn.histplot(x_third, stat = 'density',             \n",
    "                 color = \"palevioletred\",\n",
    "                 label = \"histogram\",\n",
    "                 bins = 15)                             \n",
    "plt.legend();"
   ]
  },
  {
   "cell_type": "markdown",
   "metadata": {},
   "source": [
    "__5. Выборочной квантили уровня 0.8__"
   ]
  },
  {
   "cell_type": "code",
   "execution_count": 228,
   "metadata": {},
   "outputs": [
    {
     "data": {
      "image/png": "[encoded data removed]",
      "text/plain": [
       "<Figure size 432x288 with 1 Axes>"
      ]
     },
     "metadata": {
      "needs_background": "light"
     },
     "output_type": "display_data"
    }
   ],
   "source": [
    "m = 1000  \n",
    "                                            \n",
    "x_q_8 = np.empty(m)  \n",
    "for i in range(0, m):\n",
    "    x_new = t.rvs(size = 5000, df = 10)\n",
    "    x_q_8[i] = np.quantile(x_new, 0.8)\n",
    "x_q_8 = np.sort(x_q_8)                                \n",
    "\n",
    "plt.xlabel('x')                                         \n",
    "plt.ylabel('f(x)')                                     \n",
    "\n",
    "seaborn.histplot(x_q_8, stat = 'density',             \n",
    "                 color = \"palevioletred\",\n",
    "                 label = \"histogram\",\n",
    "                 bins = 15)                             \n",
    "plt.legend();"
   ]
  },
  {
   "cell_type": "markdown",
   "metadata": {},
   "source": [
    "__6. Выборочной функции распределения в точке 5__"
   ]
  },
  {
   "cell_type": "code",
   "execution_count": 229,
   "metadata": {},
   "outputs": [
    {
     "data": {
      "image/png": "[encoded data removed]",
      "text/plain": [
       "<Figure size 432x288 with 1 Axes>"
      ]
     },
     "metadata": {
      "needs_background": "light"
     },
     "output_type": "display_data"
    }
   ],
   "source": [
    "m = 1000  \n",
    "                                            \n",
    "F_X_5 = np.empty(m)  \n",
    "for i in range(0, m):\n",
    "    x_new = t.rvs(size = 5000, df = 10)\n",
    "    F_X_5[i] = np.mean(x_new <= 5)\n",
    "F_X_5 = np.sort(F_X_5)                                \n",
    "\n",
    "plt.xlabel('x')                                         \n",
    "plt.ylabel('f(x)')                                     \n",
    "\n",
    "seaborn.histplot(F_X_5, stat = 'density',             \n",
    "                 color = \"palevioletred\",\n",
    "                 label = \"histogram\",\n",
    "                 bins = 15)                             \n",
    "plt.legend();"
   ]
  },
  {
   "cell_type": "markdown",
   "metadata": {},
   "source": [
    "### Задание 2"
   ]
  },
  {
   "cell_type": "markdown",
   "metadata": {},
   "source": [
    "Повторите предыдущий пункт, но визуализируя не\n",
    "выборочные, а истинные распределения. В некоторых\n",
    "пунктах удобно использовать ЦПТ, в других - распределение\n",
    "необходимо выводить иными способами."
   ]
  },
  {
   "cell_type": "markdown",
   "metadata": {},
   "source": [
    "### Задание 3"
   ]
  },
  {
   "cell_type": "markdown",
   "metadata": {},
   "source": [
    "Симулируйте три независимых выборки объемом в 5000 наблюдений\n",
    "из стандартного равномерного распределения. Получите из этих\n",
    "двух выборок две сложив первую со второй, а вторую - с третьей.\n",
    "Для получившихся выборок:"
   ]
  },
  {
   "cell_type": "code",
   "execution_count": 231,
   "metadata": {},
   "outputs": [],
   "source": [
    "X_1 = uniform.rvs(size = 5000)\n",
    "\n",
    "X_2 = uniform.rvs(size = 5000)\n",
    "\n",
    "X_3 = uniform.rvs(size = 5000)\n",
    "\n",
    "X = X_1 + X_2\n",
    "Y = X_2 + X_3"
   ]
  },
  {
   "cell_type": "markdown",
   "metadata": {},
   "source": [
    "__1. Посчитайте выборочную ковариационную матрицу__"
   ]
  },
  {
   "cell_type": "markdown",
   "metadata": {},
   "source": [
    "$Cov(X, Y) = E(XY) - E(X)E(Y)$"
   ]
  },
  {
   "cell_type": "markdown",
   "metadata": {},
   "source": [
    "$Var(X) = E(X^2) - E^2(X)$"
   ]
  },
  {
   "cell_type": "code",
   "execution_count": 232,
   "metadata": {},
   "outputs": [
    {
     "data": {
      "text/plain": [
       "array([[0.16610968, 0.08367279],\n",
       "       [0.08367279, 0.16604263]])"
      ]
     },
     "execution_count": 232,
     "metadata": {},
     "output_type": "execute_result"
    }
   ],
   "source": [
    "Var_X = np.mean(X ** 2) - np.mean(X) ** 2\n",
    "Var_Y = np.mean(Y ** 2) - np.mean(Y) ** 2\n",
    "Cov_X_Y = np.mean(X * Y) - np.mean(X) * np.mean(Y)\n",
    "\n",
    "COV = np.array([[Var_X, Cov_X_Y], \n",
    "               [Cov_X_Y, Var_Y]])\n",
    "COV"
   ]
  },
  {
   "cell_type": "markdown",
   "metadata": {},
   "source": [
    "__2. Рассчитайте выборочную корреляционную матрицу__"
   ]
  },
  {
   "cell_type": "code",
   "execution_count": 233,
   "metadata": {},
   "outputs": [
    {
     "data": {
      "text/plain": [
       "array([[1.        , 0.50382183],\n",
       "       [0.50382183, 1.        ]])"
      ]
     },
     "execution_count": 233,
     "metadata": {},
     "output_type": "execute_result"
    }
   ],
   "source": [
    "Corr_X_Y = Cov_X_Y / ((Var_X) ** (1/2) * (Var_Y) ** (1/2))\n",
    "\n",
    "CORR = np.array([[1, Corr_X_Y], \n",
    "               [Corr_X_Y, 1]])\n",
    "\n",
    "CORR"
   ]
  },
  {
   "cell_type": "markdown",
   "metadata": {},
   "source": [
    "__3. При помощи гистограммы визуализируйте распределение выборочной корреляции__"
   ]
  },
  {
   "cell_type": "code",
   "execution_count": 234,
   "metadata": {},
   "outputs": [
    {
     "data": {
      "image/png": "[encoded data removed]",
      "text/plain": [
       "<Figure size 432x288 with 1 Axes>"
      ]
     },
     "metadata": {
      "needs_background": "light"
     },
     "output_type": "display_data"
    }
   ],
   "source": [
    "m = 1000  \n",
    "                                            \n",
    "corrs = np.empty(m)  \n",
    "for i in range(0, m):\n",
    "    X_1 = norm.rvs(size = 5000,                      \n",
    "         loc = 0,                          \n",
    "         scale = 1)\n",
    "    X_2 = norm.rvs(size = 5000,                      \n",
    "             loc = 0,                          \n",
    "             scale = 1)\n",
    "    X_3 = norm.rvs(size = 5000,                      \n",
    "             loc = 0,                          \n",
    "             scale = 1)\n",
    "    X = X_1 + X_2\n",
    "    Y = X_2 + X_3\n",
    "    \n",
    "    Var_X = np.mean(X ** 2) - np.mean(X) ** 2\n",
    "    Var_Y = np.mean(Y ** 2) - np.mean(Y) ** 2\n",
    "    Cov_X_Y = np.mean(X * Y) - np.mean(X) * np.mean(Y)\n",
    "    corrs[i] = Cov_X_Y / ((Var_X) ** (1/2) * (Var_Y) ** (1/2))\n",
    "corrs = np.sort(corrs)                                \n",
    "\n",
    "plt.xlabel('x')                                         \n",
    "plt.ylabel('f(x)')                                     \n",
    "\n",
    "seaborn.histplot(corrs, stat = 'density',             \n",
    "                 color = \"palevioletred\",\n",
    "                 label = \"histogram\",\n",
    "                 bins = 15)                             \n",
    "plt.legend();"
   ]
  },
  {
   "cell_type": "markdown",
   "metadata": {},
   "source": [
    "### Задание 4"
   ]
  },
  {
   "cell_type": "markdown",
   "metadata": {},
   "source": [
    "Самостоятельно запрограммируйте функции, позволяющие рассчитывать"
   ]
  },
  {
   "cell_type": "markdown",
   "metadata": {},
   "source": [
    "__1. Выборочное среднее__"
   ]
  },
  {
   "cell_type": "code",
   "execution_count": 235,
   "metadata": {},
   "outputs": [],
   "source": [
    "def sample_mean(x):\n",
    "    return sum(x) / len(x)"
   ]
  },
  {
   "cell_type": "markdown",
   "metadata": {},
   "source": [
    "__2. Выборочную дисперсию__"
   ]
  },
  {
   "cell_type": "code",
   "execution_count": 236,
   "metadata": {},
   "outputs": [],
   "source": [
    "def sample_var(x):\n",
    "    return np.mean(x ** 2) - np.mean(x) ** 2"
   ]
  },
  {
   "cell_type": "markdown",
   "metadata": {},
   "source": [
    "__3. Выборочную медиану__"
   ]
  },
  {
   "cell_type": "code",
   "execution_count": 237,
   "metadata": {},
   "outputs": [],
   "source": [
    "def sample_med(x):\n",
    "    q = int(0.5 * len(x))\n",
    "    if len(x) % 2 != 0:\n",
    "        return np.sort(x)[(q-1)]  # Выбираем из вариационного ряда нужный элемент\n",
    "    else:\n",
    "        return (np.sort(x)[(q-1)] + np.sort(x)[q])"
   ]
  },
  {
   "cell_type": "markdown",
   "metadata": {},
   "source": [
    "__4. Порядковые статистики__"
   ]
  },
  {
   "cell_type": "code",
   "execution_count": 238,
   "metadata": {},
   "outputs": [],
   "source": [
    "def sample_mean(x, q):\n",
    "    return np.sort(x)[(q-1)]  # Выбираем из вариационного ряда нужный элемент (коррекция на особенности нумерации в Python с 0)"
   ]
  },
  {
   "cell_type": "markdown",
   "metadata": {},
   "source": [
    "__5. Выборочную ковариационную матрицу__"
   ]
  },
  {
   "cell_type": "code",
   "execution_count": 239,
   "metadata": {},
   "outputs": [],
   "source": [
    "def sample_mean(x, y):\n",
    "    Var_X = np.mean(X ** 2) - np.mean(X) ** 2\n",
    "    Var_Y = np.mean(Y ** 2) - np.mean(Y) ** 2\n",
    "    Cov_X_Y = np.mean(X * Y) - np.mean(X) * np.mean(Y)\n",
    "\n",
    "    COV = np.array([[Var_X, Cov_X_Y], \n",
    "                   [Cov_X_Y, Var_Y]])\n",
    "    return COV"
   ]
  },
  {
   "cell_type": "markdown",
   "metadata": {},
   "source": [
    "### Задание 5"
   ]
  },
  {
   "cell_type": "markdown",
   "metadata": {},
   "source": [
    "Симулируйте три независимые выборки: две из стандартного нормального распределения и одну из Хи-Квадрат распределения с двумя степенями  свободы. Сформируйте еще одну выборку сложив квадраты выборок из стандартных нормальных распределений. Сравните выборочные характеристики  получившейся выборки с выборочными характеристиками выборки из Хи-Квадрат  распределения с двумя степенями свободы. Сделайте выводы о причинах налблюдаемого сходства в выборочных характеристиках."
   ]
  },
  {
   "cell_type": "code",
   "execution_count": 240,
   "metadata": {},
   "outputs": [],
   "source": [
    "X_1_norm = norm.rvs(size = 5000,                      \n",
    "         loc = 0,                          \n",
    "         scale = 1)\n",
    "\n",
    "X_2_norm = norm.rvs(size = 5000,                      \n",
    "         loc = 0,                          \n",
    "         scale = 1)\n",
    "\n",
    "X_3_chi2 = chi2.rvs(size = 5000, df = 2)\n",
    "\n",
    "X_new = (X_1_norm) ** 2 + (X_2_norm) ** 2"
   ]
  },
  {
   "cell_type": "code",
   "execution_count": 241,
   "metadata": {},
   "outputs": [
    {
     "data": {
      "text/plain": [
       "2.0304366420133615"
      ]
     },
     "execution_count": 241,
     "metadata": {},
     "output_type": "execute_result"
    },
    {
     "data": {
      "text/plain": [
       "3.983426881762258"
      ]
     },
     "execution_count": 241,
     "metadata": {},
     "output_type": "execute_result"
    },
    {
     "data": {
      "text/plain": [
       "3.9842237265075595"
      ]
     },
     "execution_count": 241,
     "metadata": {},
     "output_type": "execute_result"
    },
    {
     "data": {
      "text/plain": [
       "1.4005570804712604"
      ]
     },
     "execution_count": 241,
     "metadata": {},
     "output_type": "execute_result"
    },
    {
     "data": {
      "text/plain": [
       "0.748878153757061"
      ]
     },
     "execution_count": 241,
     "metadata": {},
     "output_type": "execute_result"
    },
    {
     "data": {
      "text/plain": [
       "47.48993351940832"
      ]
     },
     "execution_count": 241,
     "metadata": {},
     "output_type": "execute_result"
    },
    {
     "data": {
      "text/plain": [
       "array([ 0.00012907,  0.00017372,  0.00030774, ..., 14.47630187,\n",
       "       14.67765618, 19.26162894])"
      ]
     },
     "execution_count": 241,
     "metadata": {},
     "output_type": "execute_result"
    }
   ],
   "source": [
    "# Для X_new\n",
    "\n",
    "np.mean(X_new)                                              # выборочное среднее\n",
    "np.var(X_new)                                               # выборочная дисперсия\n",
    "np.var(X_new, ddof = 1)                                     # скорректированная выборочная дисперсия\n",
    "np.median(X_new)                                            # выборочная медиана\n",
    "np.quantile(X_new, 0.3)                                     # выборочная квантиль уровня 0.3\n",
    "np.mean(X_new ** 3)                                         # выборочный начальный момент 3-го порядка\n",
    "np.sort(X_new)                                              # реализация вариационного ряда"
   ]
  },
  {
   "cell_type": "code",
   "execution_count": 242,
   "metadata": {},
   "outputs": [
    {
     "data": {
      "text/plain": [
       "1.9950238273644159"
      ]
     },
     "execution_count": 242,
     "metadata": {},
     "output_type": "execute_result"
    },
    {
     "data": {
      "text/plain": [
       "4.016848999467675"
      ]
     },
     "execution_count": 242,
     "metadata": {},
     "output_type": "execute_result"
    },
    {
     "data": {
      "text/plain": [
       "4.01765252997367"
      ]
     },
     "execution_count": 242,
     "metadata": {},
     "output_type": "execute_result"
    },
    {
     "data": {
      "text/plain": [
       "1.3503192100379546"
      ]
     },
     "execution_count": 242,
     "metadata": {},
     "output_type": "execute_result"
    },
    {
     "data": {
      "text/plain": [
       "0.7087867269294079"
      ]
     },
     "execution_count": 242,
     "metadata": {},
     "output_type": "execute_result"
    },
    {
     "data": {
      "text/plain": [
       "47.093440375770676"
      ]
     },
     "execution_count": 242,
     "metadata": {},
     "output_type": "execute_result"
    },
    {
     "data": {
      "text/plain": [
       "array([ 0.00062557,  0.00101688,  0.00181111, ..., 13.7163734 ,\n",
       "       14.04255234, 14.6740929 ])"
      ]
     },
     "execution_count": 242,
     "metadata": {},
     "output_type": "execute_result"
    }
   ],
   "source": [
    "# Для X_3_chi2\n",
    "\n",
    "np.mean(X_3_chi2)                                              # выборочное среднее\n",
    "np.var(X_3_chi2)                                               # выборочная дисперсия\n",
    "np.var(X_3_chi2, ddof = 1)                                     # скорректированная выборочная дисперсия\n",
    "np.median(X_3_chi2)                                            # выборочная медиана\n",
    "np.quantile(X_3_chi2, 0.3)                                     # выборочная квантиль уровня 0.3\n",
    "np.mean(X_3_chi2 ** 3)                                         # выборочный начальный момент 3-го порядка\n",
    "np.sort(X_3_chi2)                                              # реализация вариационного ряда"
   ]
  },
  {
   "cell_type": "markdown",
   "metadata": {},
   "source": [
    "Выборочные характеристики сильно схожи, так как хи-квадрат по сути и есть распределение суммы независимых стандартно нормально распределенных случайных величин"
   ]
  }
 ],
 "metadata": {
  "kernelspec": {
   "display_name": "Python 3",
   "language": "python",
   "name": "python3"
  },
  "language_info": {
   "codemirror_mode": {
    "name": "ipython",
    "version": 3
   },
   "file_extension": ".py",
   "mimetype": "text/x-python",
   "name": "python",
   "nbconvert_exporter": "python",
   "pygments_lexer": "ipython3",
   "version": "3.7.6"
  },
  "toc": {
   "base_numbering": 1,
   "nav_menu": {},
   "number_sections": true,
   "sideBar": true,
   "skip_h1_title": false,
   "title_cell": "Navigation",
   "title_sidebar": "Navigation",
   "toc_cell": true,
   "toc_position": {
    "height": "calc(100% - 180px)",
    "left": "10px",
    "top": "150px",
    "width": "149.823px"
   },
   "toc_section_display": true,
   "toc_window_display": true
  }
 },
 "nbformat": 4,
 "nbformat_minor": 4
}
